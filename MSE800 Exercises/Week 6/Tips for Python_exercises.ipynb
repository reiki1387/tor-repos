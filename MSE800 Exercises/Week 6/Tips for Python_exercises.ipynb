{
 "cells": [
  {
   "cell_type": "code",
   "execution_count": null,
   "id": "a663efff-02f1-4c45-89e8-5c95d97f2ced",
   "metadata": {},
   "outputs": [],
   "source": []
  },
  {
   "cell_type": "code",
   "execution_count": 17,
   "id": "07bc372e-0bba-42aa-b92f-1821f664976e",
   "metadata": {},
   "outputs": [
    {
     "name": "stdout",
     "output_type": "stream",
     "text": [
      "28\n",
      "30\n"
     ]
    }
   ],
   "source": [
    "# extract information with age greater than 25 from the following list of dictionaries\n",
    "data = [{\"name\": \"Alice\", \"age\": 28}, {\"name\": \"Bob\", \"age\": 24}, {\"name\": \"Charlie\", \"age\": 30}]\n",
    "\n",
    "for age in data:\n",
    "    if age[\"age\"] > 25:\n",
    "        print(age[\"age\"])\n",
    "\n",
    "#list comprehension\n",
    "# age_above_25 = [age[\"age\"]  for age in data if age[\"age\"]>25 ]\n",
    "# print(age_above_25)\n",
    "\n",
    "    "
   ]
  },
  {
   "cell_type": "code",
   "execution_count": 18,
   "id": "4d7663b4-e991-43a8-9f44-a37c1ad87b50",
   "metadata": {},
   "outputs": [],
   "source": [
    "# use list comprehension to flatten the matrix\n",
    "matrix = [[1, 2, 3], [4, 5, 6], [7, 8, 9]]\n"
   ]
  },
  {
   "cell_type": "code",
   "execution_count": 19,
   "id": "40ab8c19-ad6c-4830-90aa-d30da64e2060",
   "metadata": {},
   "outputs": [
    {
     "name": "stdout",
     "output_type": "stream",
     "text": [
      "[1, 2, 3, 4, 5, 6, 7, 8, 9]\n"
     ]
    }
   ],
   "source": [
    "flattened_matrix = [num for rows in matrix for num in rows]\n",
    "print(flattened_matrix)"
   ]
  },
  {
   "cell_type": "code",
   "execution_count": 20,
   "id": "163bdfe0-c2c9-400c-b221-432f902aea57",
   "metadata": {},
   "outputs": [
    {
     "name": "stdout",
     "output_type": "stream",
     "text": [
      "[23, 29, 31, 37, 41, 43, 47, 53, 59, 61, 67, 71, 73, 79, 83, 89, 97]\n"
     ]
    }
   ],
   "source": [
    "# use enumerate() for looping to add 5 extra point to each grade in the list, the 5th one add 10 \n",
    "grades = [88, 92, 78, 65, 50, 94]\n",
    "grades = [23, 29, 31, 37, 41, 43, 47, 53, 59, 61, 67, 71, 73, 79, 83, 89, 97, 88, 92, 78, 65, 50, 94,]\n",
    "prime_grades = [num for num in grades  if num != 1 and num % 2 != 0 and num % 3 !=0 and num% 5 != 0]\n",
    "print(prime_grades)\n",
    "\n"
   ]
  },
  {
   "cell_type": "code",
   "execution_count": 21,
   "id": "cd080518-e3da-4460-806a-9cff1d0bd3d9",
   "metadata": {},
   "outputs": [
    {
     "name": "stdout",
     "output_type": "stream",
     "text": [
      "[28, 34, 36, 42, 46, 48, 52, 58, 64, 66, 72, 76, 78, 84, 88, 94, 102, 93, 97, 83, 70, 55, 104]\n"
     ]
    }
   ],
   "source": [
    "#if-else must put before for loop, if statement only can put afte the for loop\n",
    "extra_grades = extra_grades = [num +5 if i < len(grades) - 1 else num + 10 for i, num in enumerate(grades) ]\n",
    "print(extra_grades)"
   ]
  },
  {
   "cell_type": "code",
   "execution_count": 22,
   "id": "e7708aba-98ac-462f-ad9d-66472e54b252",
   "metadata": {},
   "outputs": [],
   "source": [
    "# print the grades if they are prime value a number that can only be divided by 1 and itself\n",
    "grades = [88, 92, 78, 65, 50, 94]\n",
    "prime_grades = [num for num in grades if num %1 and num%num]"
   ]
  },
  {
   "cell_type": "code",
   "execution_count": 23,
   "id": "d069230f-2c5d-4c16-bbf9-576ffa3f7031",
   "metadata": {},
   "outputs": [],
   "source": [
    "# filter out elements depend on their index: \n",
    "# use list comprehension and enumerate() to get elements with even index\n",
    "data = [100, 200, 300, 400, 500]\n",
    "\n",
    "\n"
   ]
  },
  {
   "cell_type": "code",
   "execution_count": 24,
   "id": "19838113-b7ba-4901-a967-15542a582722",
   "metadata": {},
   "outputs": [
    {
     "name": "stdout",
     "output_type": "stream",
     "text": [
      "[100, 300, 500]\n"
     ]
    }
   ],
   "source": [
    "even_index = [num for i, num in enumerate(data) if i % 2== 0]\n",
    "print(even_index)"
   ]
  },
  {
   "cell_type": "code",
   "execution_count": null,
   "id": "d7fe199c-57e3-4ece-a93a-3672f2324e12",
   "metadata": {},
   "outputs": [],
   "source": []
  },
  {
   "cell_type": "code",
   "execution_count": 25,
   "id": "ebdc579d-5829-4204-9814-253753ea6766",
   "metadata": {},
   "outputs": [],
   "source": [
    "# create a dictionary from lists using zip()\n",
    "keys = ['name', 'age', 'grade']\n",
    "values = ['Alice', 25, 'A']"
   ]
  },
  {
   "cell_type": "code",
   "execution_count": 26,
   "id": "da23c662-0f96-4cd5-957d-736da08cc28e",
   "metadata": {},
   "outputs": [
    {
     "name": "stdout",
     "output_type": "stream",
     "text": [
      "<class 'zip'>\n",
      "<zip object at 0x00000186270355C0>\n",
      "[('name', 'Alice'), ('age', 25), ('grade', 'A')]\n"
     ]
    }
   ],
   "source": [
    "zipped = zip(keys, values)\n",
    "print(type(zipped))   #class zip\n",
    "print(zipped)  # prints an object zip\n",
    "print(list(zipped))   # prints a list of tuple"
   ]
  },
  {
   "cell_type": "code",
   "execution_count": null,
   "id": "26fd8ac3-0074-4d4b-a78c-aad59a418b38",
   "metadata": {},
   "outputs": [],
   "source": []
  },
  {
   "cell_type": "code",
   "execution_count": 27,
   "id": "96eabba4-1b73-40dd-80ad-de0f45bb4c81",
   "metadata": {},
   "outputs": [],
   "source": [
    "# sort the dictionary based on the ages using lambda\n",
    "students = [\n",
    "    {'name': \"John\", 'grade': \"A\", 'age': 20}, \n",
    "    {'name': \"Jane\", 'grade': \"B\", 'age': 21}, \n",
    "    {'name': \"Joss\", 'grade': \"A+\", 'age': 19}, \n",
    "    {'name': \"Jack\", 'grade': \"A-\", 'age': 16}, \n",
    "    {'name': \"Dave\", 'grade': \"C\", 'age': 25}, \n",
    "]"
   ]
  },
  {
   "cell_type": "code",
   "execution_count": 28,
   "id": "b87aa8ac-d3c2-4897-8a9e-4eea2a63fce7",
   "metadata": {},
   "outputs": [
    {
     "name": "stdout",
     "output_type": "stream",
     "text": [
      "[{'name': 'Jack', 'grade': 'A-', 'age': 16}, {'name': 'Joss', 'grade': 'A+', 'age': 19}, {'name': 'John', 'grade': 'A', 'age': 20}, {'name': 'Jane', 'grade': 'B', 'age': 21}, {'name': 'Dave', 'grade': 'C', 'age': 25}]\n"
     ]
    }
   ],
   "source": [
    "\n",
    "#sort list of dictionaries by employess age , ascending\n",
    "#lambda syntax    \"lambda arguments: expression\"\n",
    "#arguments can be one or more separated by commas\n",
    "\n",
    "sorted_pairs = sorted(students, key=lambda student: student[\"age\"])\n",
    "print(sorted_pairs)"
   ]
  },
  {
   "cell_type": "code",
   "execution_count": null,
   "id": "5fb3152c-ae30-4a0b-bd60-df57a7ee1d8f",
   "metadata": {},
   "outputs": [],
   "source": []
  },
  {
   "cell_type": "code",
   "execution_count": 29,
   "id": "1332bf19-f03a-4c5b-ac2f-c1fa58c54767",
   "metadata": {},
   "outputs": [],
   "source": [
    "# Sort by age, then by salary if ages are the same\n",
    "# use lambda\n",
    "employees = [\n",
    "    {'name': 'Alice', 'age': 30, 'salary': 80000},\n",
    "    {'name': 'Bob', 'age': 25, 'salary': 50000},\n",
    "    {'name': 'Charlie', 'age': 35, 'salary': 120000},\n",
    "]\n",
    "\n"
   ]
  },
  {
   "cell_type": "code",
   "execution_count": null,
   "id": "6e99f536-cdd0-4e60-b846-7bb05c41dd6a",
   "metadata": {},
   "outputs": [],
   "source": [
    "#lambda syntax    \"lambda arguments: expression\"\n",
    "# The key with 2 expressions return a tuple of age and salary for each dictionary\n",
    "# the first expression \"employee['age']\", sorts the dictionaries according to age (ascending)\n",
    "# the second expression will check for the same value in the age and arrange those with the same value by salary \n",
    "\n",
    "sorted_employees = sorted(employees, key=lambda employee: (employee['age'], employee['salary']))\n",
    "\n",
    "print(sorted_employees)\n",
    "\n",
    "\n",
    "\n",
    "#expressions cannot contain statements like if, for, or while.\n",
    "#Full if statements, which involve more than one action or block of code, are not allowed in a lambda function.\n",
    "# In a lambda, you can have expressions, and the conditional expression (value_if_true if condition else value_if_false)\n",
    "# is just a form of expression, which is why it's allowed in a lambda function."
   ]
  },
  {
   "cell_type": "code",
   "execution_count": null,
   "id": "dac9b074-5e9a-41f3-bee9-b6d9857e798c",
   "metadata": {},
   "outputs": [],
   "source": []
  },
  {
   "cell_type": "code",
   "execution_count": 45,
   "id": "ad414ac1-a032-4d8e-a8ae-0d8180ffbeb6",
   "metadata": {},
   "outputs": [],
   "source": [
    "# Generators are highly useful in data-heavy applications:\n",
    "\n",
    "# Reading Large Files: Use generators to read large files line by line without loading the entire file into memory.\n",
    "# Data Streaming: Stream data entries for real-time data processing.\n",
    "# Large Calculations: Break down massive calculations into smaller, more manageable chunks."
   ]
  },
  {
   "cell_type": "code",
   "execution_count": null,
   "id": "ed9e15c4-fb82-487b-a20c-66dd903b925c",
   "metadata": {},
   "outputs": [],
   "source": [
    "#display(df.loc[2:3])\n",
    "# display(df.iloc[[1]])"
   ]
  },
  {
   "cell_type": "code",
   "execution_count": null,
   "id": "d82eb6fc-95d7-4f91-b5e3-deef3f5dece6",
   "metadata": {},
   "outputs": [
    {
     "ename": "NameError",
     "evalue": "name 'pd' is not defined",
     "output_type": "error",
     "traceback": [
      "\u001b[1;31m---------------------------------------------------------------------------\u001b[0m",
      "\u001b[1;31mNameError\u001b[0m                                 Traceback (most recent call last)",
      "Cell \u001b[1;32mIn[1], line 8\u001b[0m\n\u001b[0;32m      2\u001b[0m data \u001b[38;5;241m=\u001b[39m {\n\u001b[0;32m      3\u001b[0m   \u001b[38;5;124m\"\u001b[39m\u001b[38;5;124mcalories\u001b[39m\u001b[38;5;124m\"\u001b[39m: [\u001b[38;5;241m420\u001b[39m, \u001b[38;5;241m380\u001b[39m, \u001b[38;5;241m390\u001b[39m],\n\u001b[0;32m      4\u001b[0m   \u001b[38;5;124m\"\u001b[39m\u001b[38;5;124mduration\u001b[39m\u001b[38;5;124m\"\u001b[39m: [\u001b[38;5;241m50\u001b[39m, \u001b[38;5;241m40\u001b[39m, \u001b[38;5;241m45\u001b[39m]\n\u001b[0;32m      5\u001b[0m }\n\u001b[0;32m      7\u001b[0m \u001b[38;5;66;03m# load data into a DataFrame object:\u001b[39;00m\n\u001b[1;32m----> 8\u001b[0m df \u001b[38;5;241m=\u001b[39m \u001b[43mpd\u001b[49m\u001b[38;5;241m.\u001b[39mDataFrame(data)\n\u001b[0;32m     10\u001b[0m \u001b[38;5;66;03m#iloc syntax:    \" dataframe.iloc[row_index, column_index]\"\u001b[39;00m\n\u001b[0;32m     11\u001b[0m \u001b[38;5;28mprint\u001b[39m(\u001b[38;5;28mtype\u001b[39m(df))  \u001b[38;5;66;03m#type: dataframe\u001b[39;00m\n",
      "\u001b[1;31mNameError\u001b[0m: name 'pd' is not defined"
     ]
    }
   ],
   "source": [
    "import pandas as pd\n",
    "data = {\n",
    "  \"calories\": [420, 380, 390],\n",
    "  \"duration\": [50, 40, 45]\n",
    "}\n",
    " \n",
    "# load data into a DataFrame object:\n",
    "df = pd.DataFrame(data)\n",
    "\n",
    "#iloc syntax:    \" dataframe.iloc[row_index, column_index]\"\n",
    "print(type(df))  #type: dataframe\n",
    "print(type(df.iloc[1])) #type: series\n",
    "\n",
    "#Output is a single row with no DataFrame structure.\n",
    "#the outside [] ensures that the output is a DataFrame, even if it contains only one row.\n",
    "print(df.iloc[[1]]) #Selects the row at index 1 as a Series.\n",
    "\n",
    "#for label-based indexing\n",
    "#loc syntax:     \"dataframe.loc[row_labels, column_labels]\"\n",
    "print(df.loc[1,\"calories\"])  #prints 380. access index 1 of \"calories\" column\n"
   ]
  },
  {
   "cell_type": "code",
   "execution_count": null,
   "id": "e65d69a7-a698-4bd6-909d-12c9336ced5e",
   "metadata": {},
   "outputs": [],
   "source": []
  },
  {
   "cell_type": "code",
   "execution_count": null,
   "id": "11256002-68c2-4954-b14f-6822574718f1",
   "metadata": {},
   "outputs": [],
   "source": []
  },
  {
   "cell_type": "code",
   "execution_count": null,
   "id": "34203ad5-da1c-4742-bf73-b611f7e74476",
   "metadata": {},
   "outputs": [],
   "source": []
  }
 ],
 "metadata": {
  "kernelspec": {
   "display_name": "Python 3",
   "language": "python",
   "name": "python3"
  },
  "language_info": {
   "codemirror_mode": {
    "name": "ipython",
    "version": 3
   },
   "file_extension": ".py",
   "mimetype": "text/x-python",
   "name": "python",
   "nbconvert_exporter": "python",
   "pygments_lexer": "ipython3",
   "version": "3.13.1"
  }
 },
 "nbformat": 4,
 "nbformat_minor": 5
}
