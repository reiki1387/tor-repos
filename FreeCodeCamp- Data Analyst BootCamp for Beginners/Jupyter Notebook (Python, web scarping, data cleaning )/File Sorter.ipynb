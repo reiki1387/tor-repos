{
 "cells": [
  {
   "cell_type": "code",
   "execution_count": 2,
   "id": "b49fdc79-e33b-46df-bb10-4d73b6b03ad1",
   "metadata": {},
   "outputs": [],
   "source": [
    "import os, shutil\n",
    "path = r\"C:/Users/FRED/Desktop/FreeCodeCamp- Data Analyst BootCamp for Beginners/Auto file sorter files/\""
   ]
  },
  {
   "cell_type": "code",
   "execution_count": 3,
   "id": "fa27c539-c4e7-4456-8cc1-5ba542348536",
   "metadata": {},
   "outputs": [
    {
     "data": {
      "text/plain": [
       "['docx_folder',\n",
       " 'excel_folder',\n",
       " 'python_folder',\n",
       " 'Sample csv_Excel.csv',\n",
       " 'Sample Excel.xlsx',\n",
       " 'Sample Excel2.xlsx',\n",
       " 'Sample Pyton.py',\n",
       " 'Sample Pyton2.py',\n",
       " 'Sample Text.txt',\n",
       " 'Sample Text2.txt',\n",
       " 'Sample Word.docx',\n",
       " 'Sample Word2.docx',\n",
       " 'text_folder']"
      ]
     },
     "execution_count": 3,
     "metadata": {},
     "output_type": "execute_result"
    }
   ],
   "source": [
    "os.listdir(path)"
   ]
  },
  {
   "cell_type": "code",
   "execution_count": 4,
   "id": "0171e393-762c-4e85-90ac-f0d8aa91e552",
   "metadata": {},
   "outputs": [
    {
     "data": {
      "text/plain": [
       "True"
      ]
     },
     "execution_count": 4,
     "metadata": {},
     "output_type": "execute_result"
    }
   ],
   "source": [
    "os.path.exists(path)"
   ]
  },
  {
   "cell_type": "code",
   "execution_count": 5,
   "id": "8e1c972f-ba30-4d2f-9884-d89531959ac4",
   "metadata": {},
   "outputs": [],
   "source": [
    "#creating folders inside the path\n",
    "folder_names =['excel_folder' , 'python_folder', 'text_folder', 'docx_folder']\n",
    "\n",
    "for folder in folder_names:\n",
    "    if not os.path.exists(path + folder):\n",
    "        os.makedirs(path + folder)"
   ]
  },
  {
   "cell_type": "code",
   "execution_count": 10,
   "id": "bc926434-86a7-452a-8c7b-f50ef5686961",
   "metadata": {},
   "outputs": [
    {
     "name": "stdout",
     "output_type": "stream",
     "text": [
      " File extension is not included in the sorter\n",
      " File extension is not included in the sorter\n",
      " File extension is not included in the sorter\n",
      " File extension is not included in the sorter\n"
     ]
    }
   ],
   "source": [
    "file_name = os.listdir(path)\n",
    "#check if extension is in the filename and check if the file path exists(basically if the file exeist int the folder\n",
    "for file in file_name:\n",
    "    #if ((\".xlsx\" in file or \".csv\" in file)) and file not in (path + 'excel_folder'):\n",
    "    if ((\".xlsx\" in file or \".csv\" in file)) and not os.path.exists(path + \"excel_folder/\" + file):\n",
    "        shutil.move(path + file , path + \"excel_folder/\" + file)\n",
    "    elif (\".py\" in file) and not os.path.exists(path + \"python_folder/\" + file):\n",
    "        shutil.move(path + file , path + \"python_folder/\" + file)\n",
    "    elif (\".txt\" in file) and not os.path.exists(path + \"text_folder/\" + file):\n",
    "        shutil.move(path + file , path + \"text_folder/\" + file)\n",
    "    elif (\".docx\" in file) and not os.path.exists(path + \"docx_folder/\" + file):\n",
    "        shutil.move(path + file , path + \"docx_folder/\" + file)\n",
    "    else:\n",
    "        print(\" File extension is not included in the sorter\")"
   ]
  },
  {
   "cell_type": "code",
   "execution_count": null,
   "id": "e166fbe4-0e1c-414d-8c5c-1913f565513e",
   "metadata": {},
   "outputs": [],
   "source": []
  },
  {
   "cell_type": "code",
   "execution_count": null,
   "id": "a3098e1c-a06d-4a43-b26f-809aab284384",
   "metadata": {},
   "outputs": [],
   "source": []
  }
 ],
 "metadata": {
  "kernelspec": {
   "display_name": "Python 3 (ipykernel)",
   "language": "python",
   "name": "python3"
  },
  "language_info": {
   "codemirror_mode": {
    "name": "ipython",
    "version": 3
   },
   "file_extension": ".py",
   "mimetype": "text/x-python",
   "name": "python",
   "nbconvert_exporter": "python",
   "pygments_lexer": "ipython3",
   "version": "3.12.7"
  }
 },
 "nbformat": 4,
 "nbformat_minor": 5
}
