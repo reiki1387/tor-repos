{
 "cells": [
  {
   "cell_type": "code",
   "execution_count": 2,
   "id": "6f7ba834-e704-441c-8dc9-75d3c441bc8a",
   "metadata": {},
   "outputs": [],
   "source": [
    "import pandas as pd\n",
    "\n",
    "# Create the data\n",
    "data = {\n",
    "    \"Flavor\": [\n",
    "        \"Mint Chocolate Chip\", \"Strawberry Cheesecake\", \"Rocky Road\", \"Vanilla Bean\",\n",
    "        \"Mango Sorbet\", \"Cookies and Cream\", \"Pistachio\", \"Salted Caramel\",\n",
    "        \"Coffee Mocha\", \"Lemon Zest\"\n",
    "    ],\n",
    "    \"Base Flavor\": [\n",
    "        \"Chocolate\", \"Strawberry\", \"Chocolate\", \"Vanilla\", \"Mango\", \"Vanilla\",\n",
    "        \"Pistachio\", \"Caramel\", \"Coffee\", \"Lemon\"\n",
    "    ],\n",
    "    \"Liked\": [\n",
    "        \"Yes\", \"Yes\", \"Yes\", \"No\", \"Yes\", \"Yes\", \"No\", \"Yes\", \"No\", \"Yes\"\n",
    "    ],\n",
    "    \"Flavor rating\": [9, 8, 7, 6, 9, 8, 5, 9, 6, 8],\n",
    "    \"Texture rating\": [8, 9, 8, 5, 9, 9, 6, 9, 6, 7],\n",
    "    \"Total rating\": [17, 17, 15, 11, 18, 17, 11, 18, 12, 15]\n",
    "}\n",
    "\n",
    "# Convert to DataFrame\n",
    "df = pd.DataFrame(data)\n",
    "\n",
    "# Save to CSV\n",
    "df.to_csv(r\"C:\\Users\\FRED\\Desktop\\FreeCodeCamp- Data Analyst BootCamp for Beginners\\Pandas Reading Files\\ice_cream_data.csv\", index=False)\n"
   ]
  },
  {
   "cell_type": "code",
   "execution_count": null,
   "id": "35c4a0a2-2cd7-4911-b330-cab9eca92948",
   "metadata": {},
   "outputs": [],
   "source": []
  }
 ],
 "metadata": {
  "kernelspec": {
   "display_name": "Python 3 (ipykernel)",
   "language": "python",
   "name": "python3"
  },
  "language_info": {
   "codemirror_mode": {
    "name": "ipython",
    "version": 3
   },
   "file_extension": ".py",
   "mimetype": "text/x-python",
   "name": "python",
   "nbconvert_exporter": "python",
   "pygments_lexer": "ipython3",
   "version": "3.12.7"
  }
 },
 "nbformat": 4,
 "nbformat_minor": 5
}
