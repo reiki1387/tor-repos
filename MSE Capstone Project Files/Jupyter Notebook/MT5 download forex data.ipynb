{
 "cells": [
  {
   "cell_type": "code",
   "execution_count": 1,
   "id": "d3aec5c6-f933-4cc0-9e44-ce9ed935f47c",
   "metadata": {},
   "outputs": [
    {
     "name": "stdout",
     "output_type": "stream",
     "text": [
      "Collecting Metatrader5\n",
      "  Downloading MetaTrader5-5.0.5200-cp312-cp312-win_amd64.whl.metadata (2.4 kB)\n",
      "Requirement already satisfied: numpy>=1.7 in c:\\users\\fred\\anaconda3\\lib\\site-packages (from Metatrader5) (1.26.4)\n",
      "Downloading MetaTrader5-5.0.5200-cp312-cp312-win_amd64.whl (50 kB)\n",
      "Installing collected packages: Metatrader5\n",
      "Successfully installed Metatrader5-5.0.5200\n"
     ]
    }
   ],
   "source": [
    "!pip install Metatrader5\n"
   ]
  },
  {
   "cell_type": "code",
   "execution_count": 127,
   "id": "364bdcef-f4b9-4a5d-9814-76240358fda6",
   "metadata": {},
   "outputs": [
    {
     "name": "stdout",
     "output_type": "stream",
     "text": [
      "Initializing MT5 ...\n",
      "Connection to MT5 successful.\n",
      "Symbol US30 available.\n",
      "MT5 and symbol ready for data operations.\n"
     ]
    }
   ],
   "source": [
    "import MetaTrader5 as mt5\n",
    "import pandas as pd\n",
    "from datetime import datetime, timedelta, timezone\n",
    "import time\n",
    "# from zoneinfo import ZoneInfo      # stdlib since Python 3.9\n",
    "\n",
    "# ========== SETTINGS ========== #\n",
    "SYMBOL = \"US30\"  # Adjust to your broker's symbol name if needed\n",
    "MT5_PATH = r\"C:\\Program Files\\MetaTrader 5 IC Markets Global\\terminal64.exe\"\n",
    "TIMEFRAME = mt5.TIMEFRAME_M15\n",
    "# CSV_FILE = r\"C:\\Users\\FRED\\Desktop\\MSE Capstone Project Files\\US30_M15_ICMarkets.csv\"\n",
    "# CSV_FILE = r\"C:\\Users\\FRED\\Desktop\\MSE Capstone Project Files\\US30_M15_FXCM.csv\"\n",
    "# BATCH_SIZE = 10000  # MT5 API max per call\n",
    "\n",
    "\n",
    "# ========== MT5 INITIALIZATION FUNCTION ========== #\n",
    "\n",
    "def initialize_mt5_and_symbol(symbol, mt5_path=None):\n",
    "    \"\"\"\n",
    "    Initialize connection to MT5 and ensure the symbol is available.\n",
    "    Args:\n",
    "        symbol (str): Symbol name, e.g., 'US30'\n",
    "        mt5_path (str): Optional path to MT5 terminal64.exe\n",
    "    Returns:\n",
    "        bool: True if successful, False otherwise\n",
    "    \"\"\"\n",
    "    print(\"Initializing MT5 ...\")\n",
    "    if not mt5.initialize(path=mt5_path):\n",
    "        print(\"MT5 initialization failed. Error code:\", mt5.last_error())\n",
    "        return False\n",
    "    print(\"Connection to MT5 successful.\")\n",
    "    \n",
    "    if not mt5.symbol_select(symbol, True):\n",
    "        print(f\"Failed to select symbol {symbol}\")\n",
    "        return False\n",
    "    print(f\"Symbol {symbol} available.\")\n",
    "    return True\n",
    "\n",
    "# Fucntion call / Initialization start:\n",
    "if not initialize_mt5_and_symbol(SYMBOL, mt5_path=MT5_PATH):\n",
    "    print(\"Setup failed. Please check MT5 installation and symbol name.\")\n",
    "else:\n",
    "    print(\"MT5 and symbol ready for data operations.\")\n"
   ]
  },
  {
   "cell_type": "code",
   "execution_count": 128,
   "id": "e3447911-d0b3-4401-847e-ce9f0e4bea56",
   "metadata": {},
   "outputs": [
    {
     "name": "stdout",
     "output_type": "stream",
     "text": [
      "Farthest available data: (datetime.datetime(2021, 5, 14, 0, 0), <class 'datetime.datetime'>)\n"
     ]
    },
    {
     "data": {
      "text/plain": [
       "datetime.datetime(2021, 5, 14, 0, 0)"
      ]
     },
     "execution_count": 128,
     "metadata": {},
     "output_type": "execute_result"
    }
   ],
   "source": [
    "\n",
    "# ========== FIND FARTHEST AVAILABLE DATA (timezone-naive)========== #\n",
    "\n",
    "def get_farthest_bar_datetime(symbol, timeframe, start_year=2010, shutdown_on_fail=False):\n",
    "    \"\"\"\n",
    "    Returns the farthest-back (oldest) available datetime with data for the given symbol/timeframe.\n",
    "    Args:\n",
    "        symbol (str): Trading symbol, e.g., 'US30'\n",
    "        timeframe (int): MT5 timeframe constant, e.g., mt5.TIMEFRAME_M15\n",
    "        start_year (int): Year to begin the search from\n",
    "        shutdown_on_fail (bool): Shutdown MT5 on failure if True\n",
    "    Returns:\n",
    "        datetime: The oldest available bar datetime, or None if not found\n",
    "    \"\"\"\n",
    "    step = timedelta(days=365)\n",
    "    date = datetime(start_year, 1, 1)\n",
    "    latest_checked = None\n",
    "\n",
    "\n",
    "    while date < datetime.now():\n",
    "        rates = mt5.copy_rates_from(symbol, timeframe, date, 1)\n",
    "        #print(f\"rates: {rates, date, type(rates)}\") #rates: (array([(1640689200, 36349.9, 36367.5, 36336.4, 36363.9, 1149, 100, 0)],\n",
    "                                                    # dtype=[('time', '<i8'), ('open', '<f8'), ('high', '<f8'), ('low', '<f8'), ('close', '<f8'), ('tick_volume', '<u8'), ('spread', '<i4'),\n",
    "                                                    # ('real_volume', '<u8')]), datetime.datetime(2021, 12, 29, 0, 0), <class 'numpy.ndarray'>)\n",
    "\n",
    "        #SEARCHING FOR A YEAR THA HAS DATA\n",
    "        if rates is not None and len(rates) > 0:\n",
    "            # Found data, now search backward in smaller steps to find the exact first available bar\n",
    "            oldest_timestamp = rates[0]['time'] #get the datetime from the numpy array\n",
    "            #print(f\"oldest timestap found: {oldest_timestamp, type(oldest_timestamp)}\") #oldest timestap found: (1640689200, <class 'numpy.int64'>)\n",
    "            oldest_datetime = datetime.fromtimestamp(oldest_timestamp) # convert to pandas datetime\n",
    "            #print(f\"oldest datetime found: {oldest_datetime, type(oldest_datetime)}\") #oldest datetime found: (datetime.datetime(2021, 12, 29, 0, 0), <class 'datetime.datetime'>)\n",
    "            # Now search for the very first available bar within this year\n",
    "\n",
    "            #USING THE FOUND YEAR TO SEARCH FOR 1 YEAR BACKWARDS\n",
    "            left = date - step\n",
    "            #print(f\"LEFT: {left, type(left)}\") #LEFT: (datetime.datetime(2020, 12, 29, 0, 0), <class 'datetime.datetime'>)\n",
    "            right = date\n",
    "            #print(f\"RIGHT: {right, type(right)}\") #RIGHT: (datetime.datetime(2021, 12, 29, 0, 0), <class 'datetime.datetime'>)\n",
    "\n",
    "            farthest_data_found = None\n",
    "            for d in pd.date_range(left, right, freq=\"1D\"):\n",
    "                #print(f\"D:{d, type(d)}\") # D:(Timestamp('2021-05-14 00:00:00'), <class 'pandas._libs.tslibs.timestamps.Timestamp'>\n",
    "                #print (type(d.to_pydatetime())) #<class 'datetime.datetime'>\n",
    "                rates = mt5.copy_rates_from(symbol, timeframe, d.to_pydatetime(), 1)\n",
    "                #print(f\" Rates 2: {rates}\") # Rates 2: [(1620907200, 33368.9, 33425.9, 33367.7, 33387.7, 1903, 100, 0)]\n",
    "\n",
    "                #farthest avaible data found and break the for loop\n",
    "                if rates is not None and len(rates) > 0:\n",
    "                    oldest_timestamp = rates[0]['time']\n",
    "                    oldest_datetime = datetime.fromtimestamp(int(oldest_timestamp))\n",
    "                    # print(\"tzinfo:\", oldest_datetime.tzinfo) #tzinfo: None (means no timezone)\n",
    "                    print(f\"Farthest available data: {oldest_datetime, type(oldest_datetime)}\")\n",
    "                    farthest_data_found = oldest_datetime\n",
    "                    break\n",
    "            \n",
    "            #For loop to check the data within the found data  \n",
    "            # end = farthest_data_found + step \n",
    "            # for d in pd.date_range(farthest_data_found, end, freq=\"1D\"):\n",
    "            #     rates = mt5.copy_rates_from(symbol, timeframe, d.to_pydatetime(), 1)\n",
    "            #     if rates is not None and len(rates) > 0:\n",
    "            #         print (d, rates)\n",
    "            #     else:\n",
    "            #         print (d, \"None\")\n",
    "            return farthest_data_found\n",
    "\n",
    "        \n",
    "        else:\n",
    "            latest_checked = date\n",
    "            date += step  # Move forward one year\n",
    "\n",
    "    return f\"No historical data found for {symbol}. Last checked date: {latest_checked}\"\n",
    "    \n",
    "# Function call:\n",
    "get_farthest_bar_datetime(SYMBOL, TIMEFRAME)# (datetime.datetime(2021, 5, 14, 0, 0), <class 'datetime.datetime'>)"
   ]
  },
  {
   "cell_type": "code",
   "execution_count": 129,
   "id": "01af2339-77cc-4f08-9e3a-6e3d39522e4c",
   "metadata": {},
   "outputs": [],
   "source": [
    "#CHECK ALL SYMBOL\n",
    "# for s in mt5.symbols_get():\n",
    "#     print(s.name)\n",
    "\n",
    "# for s in mt5.symbols_get():\n",
    "#     if SYMBOL in s.name.upper():\n",
    "#         print(s.name)\n",
    "\n"
   ]
  },
  {
   "cell_type": "code",
   "execution_count": 130,
   "id": "cebc54a4-fe07-489f-9222-d78a86faf2dc",
   "metadata": {},
   "outputs": [
    {
     "name": "stdout",
     "output_type": "stream",
     "text": [
      "Downloaded 65222 rows of data for US30 (15M) from 2022-11-01 to 2025-08-07\n"
     ]
    }
   ],
   "source": [
    "# ========== DOWNLOAD DATA========== #\n",
    "# Define start and end dates\n",
    "# start_date = get_farthest_bar_datetime(SYMBOL, TIMEFRAME)\n",
    "start_date = datetime(2022, 11, 1)\n",
    "end_date = datetime.now()\n",
    "\n",
    "# Request data\n",
    "rates = mt5.copy_rates_range(SYMBOL, TIMEFRAME, start_date, end_date)\n",
    "\n",
    "# Shut down connection\n",
    "# mt5.shutdown()\n",
    "\n",
    "# Check if data was received\n",
    "if rates is None:\n",
    "    print(f\"Failed to get data for {symbol}: {mt5.last_error()}\")\n",
    "\n",
    "\n",
    "# Convert to DataFrame\n",
    "df = pd.DataFrame(rates)\n",
    "df['time'] = pd.to_datetime(df['time'], unit='s')\n",
    "\n",
    "# Optional: Save to CSV\n",
    "df.to_csv(fr\"C:\\Users\\FRED\\Desktop\\MSE Capstone Project Files\\\\{SYMBOL}_15M_{start_date.date()}_{end_date.date()}.csv\", index=False)\n",
    "\n",
    "print(f\"Downloaded {len(df)} rows of data for {SYMBOL} (15M) from {start_date.date()} to {end_date.date()}\")\n"
   ]
  },
  {
   "cell_type": "code",
   "execution_count": 131,
   "id": "7ceff123-6fbc-4b0c-a761-64f121cb5202",
   "metadata": {},
   "outputs": [],
   "source": [
    "df.set_index('time', inplace=True)\n"
   ]
  },
  {
   "cell_type": "code",
   "execution_count": 132,
   "id": "fd314521-4529-4694-8755-fdc1fc2832a6",
   "metadata": {},
   "outputs": [
    {
     "data": {
      "text/html": [
       "<div>\n",
       "<style scoped>\n",
       "    .dataframe tbody tr th:only-of-type {\n",
       "        vertical-align: middle;\n",
       "    }\n",
       "\n",
       "    .dataframe tbody tr th {\n",
       "        vertical-align: top;\n",
       "    }\n",
       "\n",
       "    .dataframe thead th {\n",
       "        text-align: right;\n",
       "    }\n",
       "</style>\n",
       "<table border=\"1\" class=\"dataframe\">\n",
       "  <thead>\n",
       "    <tr style=\"text-align: right;\">\n",
       "      <th></th>\n",
       "      <th>open</th>\n",
       "      <th>high</th>\n",
       "      <th>low</th>\n",
       "      <th>close</th>\n",
       "      <th>tick_volume</th>\n",
       "      <th>spread</th>\n",
       "      <th>real_volume</th>\n",
       "    </tr>\n",
       "    <tr>\n",
       "      <th>time</th>\n",
       "      <th></th>\n",
       "      <th></th>\n",
       "      <th></th>\n",
       "      <th></th>\n",
       "      <th></th>\n",
       "      <th></th>\n",
       "      <th></th>\n",
       "    </tr>\n",
       "  </thead>\n",
       "  <tbody>\n",
       "    <tr>\n",
       "      <th>2025-08-07 04:15:00</th>\n",
       "      <td>44239.8</td>\n",
       "      <td>44259.8</td>\n",
       "      <td>44234.8</td>\n",
       "      <td>44258.3</td>\n",
       "      <td>451</td>\n",
       "      <td>120</td>\n",
       "      <td>0</td>\n",
       "    </tr>\n",
       "    <tr>\n",
       "      <th>2025-08-07 04:30:00</th>\n",
       "      <td>44257.8</td>\n",
       "      <td>44268.3</td>\n",
       "      <td>44250.3</td>\n",
       "      <td>44256.8</td>\n",
       "      <td>581</td>\n",
       "      <td>120</td>\n",
       "      <td>0</td>\n",
       "    </tr>\n",
       "    <tr>\n",
       "      <th>2025-08-07 04:45:00</th>\n",
       "      <td>44256.3</td>\n",
       "      <td>44261.8</td>\n",
       "      <td>44243.8</td>\n",
       "      <td>44251.3</td>\n",
       "      <td>470</td>\n",
       "      <td>120</td>\n",
       "      <td>0</td>\n",
       "    </tr>\n",
       "    <tr>\n",
       "      <th>2025-08-07 05:00:00</th>\n",
       "      <td>44250.8</td>\n",
       "      <td>44268.8</td>\n",
       "      <td>44245.8</td>\n",
       "      <td>44259.8</td>\n",
       "      <td>377</td>\n",
       "      <td>120</td>\n",
       "      <td>0</td>\n",
       "    </tr>\n",
       "    <tr>\n",
       "      <th>2025-08-07 05:15:00</th>\n",
       "      <td>44259.3</td>\n",
       "      <td>44259.3</td>\n",
       "      <td>44237.8</td>\n",
       "      <td>44241.8</td>\n",
       "      <td>376</td>\n",
       "      <td>120</td>\n",
       "      <td>0</td>\n",
       "    </tr>\n",
       "  </tbody>\n",
       "</table>\n",
       "</div>"
      ],
      "text/plain": [
       "                        open     high      low    close  tick_volume  spread  \\\n",
       "time                                                                           \n",
       "2025-08-07 04:15:00  44239.8  44259.8  44234.8  44258.3          451     120   \n",
       "2025-08-07 04:30:00  44257.8  44268.3  44250.3  44256.8          581     120   \n",
       "2025-08-07 04:45:00  44256.3  44261.8  44243.8  44251.3          470     120   \n",
       "2025-08-07 05:00:00  44250.8  44268.8  44245.8  44259.8          377     120   \n",
       "2025-08-07 05:15:00  44259.3  44259.3  44237.8  44241.8          376     120   \n",
       "\n",
       "                     real_volume  \n",
       "time                              \n",
       "2025-08-07 04:15:00            0  \n",
       "2025-08-07 04:30:00            0  \n",
       "2025-08-07 04:45:00            0  \n",
       "2025-08-07 05:00:00            0  \n",
       "2025-08-07 05:15:00            0  "
      ]
     },
     "execution_count": 132,
     "metadata": {},
     "output_type": "execute_result"
    }
   ],
   "source": [
    "df.tail()\n"
   ]
  },
  {
   "cell_type": "code",
   "execution_count": 133,
   "id": "213d931d-b1b6-482f-ae21-cdfbae83bb74",
   "metadata": {},
   "outputs": [],
   "source": [
    "# ========== PLOTTING ========== #\n",
    "# Define the day you want to plot\n",
    "start_dt = datetime(2025, 8, 6)\n",
    "\n",
    "# Fetch 15M candles for that day\n",
    "rates = mt5.copy_rates_range(SYMBOL, TIMEFRAME, start_dt, end_date)\n",
    "\n",
    "# Convert to DataFrame\n",
    "df = pd.DataFrame(rates)\n",
    "df['time'] = pd.to_datetime(df['time'], unit='s')\n",
    "df.set_index('time', inplace=True)\n",
    "\n",
    "\n"
   ]
  },
  {
   "cell_type": "code",
   "execution_count": 134,
   "id": "4f4ec3ea-cbe6-4b12-a646-0c0e509aa1a1",
   "metadata": {},
   "outputs": [
    {
     "data": {
      "application/vnd.plotly.v1+json": {
       "config": {
        "plotlyServerURL": "https://plot.ly"
       },
       "data": [
        {
         "close": [
          44214.2,
          44223.7,
          44240.2,
          44229.7,
          44262.7,
          44182.7,
          44172.7,
          44181.7,
          44179.2,
          44175.2,
          44182.2,
          44224.7,
          44268.7,
          44213.2,
          44157.2,
          44164.2,
          44150.7,
          44175.2,
          44232.5,
          44161.5,
          44075,
          44053.5,
          43956,
          43982.5,
          44031,
          44040,
          44043,
          44080,
          44109,
          44140,
          44119,
          44169,
          44200,
          44228,
          44223.5,
          44196,
          44137.5,
          44107.5,
          44110.5,
          44120,
          44162.5,
          44157.5,
          44123.5,
          44114.5,
          44139,
          44126.5,
          44120,
          44137,
          44088.9,
          44117.4,
          44123.4,
          44137.4,
          44139.4,
          44131.9,
          44147.9,
          44104.4,
          44144.4,
          44142.9,
          44142.9,
          44128.4,
          44134.4,
          44131.4,
          44174.9,
          44201.4,
          44195.9,
          44226.4,
          44240.9,
          44231.4,
          44216.4,
          44222.9,
          44226.4,
          44232.9,
          44235.9,
          44238.4,
          44236.9,
          44245.9,
          44250.9,
          44266.4,
          44296.4,
          44289.9,
          44280.4,
          44317.9,
          44315.4,
          44299.9,
          44357.9,
          44345.9,
          44359.9,
          44354.9,
          44330.9,
          44303.4,
          44280.9,
          44283.4,
          44291.4,
          44273.9,
          44256.9,
          44259.9,
          44279.9,
          44277.9,
          44239.9,
          44260.4,
          44280.9,
          44275.9,
          44273.9,
          44256.9,
          44222.9,
          44243.9,
          44253.9,
          44266.4,
          44297.9,
          44213.4,
          44116.1,
          44078.6,
          44109.1,
          44040.6,
          44163.1,
          44217.1,
          44177.6,
          44240.1,
          44208.1,
          44250.6,
          44236.1,
          44226.1,
          44206.3,
          44212.3,
          44204.8,
          44217.3,
          44234.8,
          44237.3,
          44252.3,
          44253.3,
          44236.3,
          44206.8,
          44225.8,
          44233.8,
          44232.8,
          44199.3,
          44191.8,
          44202.8,
          44186.8,
          44202.8,
          44177.8,
          44248.3,
          44223.3,
          44244.3,
          44263.3,
          44242.3,
          44239.8,
          44225.8,
          44220.3,
          44230.3,
          44232.3,
          44234.8,
          44240.8,
          44258.3,
          44256.8,
          44251.3,
          44259.8,
          44241.8
         ],
         "high": [
          44218.2,
          44228.2,
          44249.2,
          44240.2,
          44270.7,
          44279.7,
          44202.2,
          44188.2,
          44200.2,
          44193.2,
          44192.2,
          44227.2,
          44277.7,
          44273.2,
          44211.2,
          44180.7,
          44177.2,
          44177.7,
          44296.5,
          44262,
          44161.5,
          44097,
          44053.5,
          43990.5,
          44045.5,
          44065.5,
          44072,
          44085,
          44130,
          44141.5,
          44184.5,
          44182,
          44201,
          44238,
          44242.5,
          44246,
          44205,
          44141,
          44126,
          44131,
          44175.5,
          44175.5,
          44170,
          44149,
          44146,
          44149,
          44129.5,
          44145,
          44162.4,
          44130.9,
          44127.4,
          44140.4,
          44140.9,
          44155.4,
          44147.9,
          44156.9,
          44153.4,
          44154.4,
          44157.4,
          44144.9,
          44137.4,
          44136.4,
          44192.9,
          44204.9,
          44204.4,
          44226.4,
          44244.9,
          44240.9,
          44233.9,
          44234.9,
          44236.9,
          44236.9,
          44246.9,
          44241.9,
          44246.4,
          44246.9,
          44257.9,
          44266.4,
          44299.4,
          44310.4,
          44301.9,
          44322.4,
          44330.9,
          44324.9,
          44358.9,
          44364.4,
          44361.4,
          44360.4,
          44356.9,
          44336.9,
          44315.9,
          44296.9,
          44294.9,
          44291.4,
          44278.9,
          44263.9,
          44284.9,
          44286.4,
          44292.4,
          44271.4,
          44307.9,
          44298.9,
          44294.4,
          44279.9,
          44273.9,
          44259.9,
          44257.4,
          44269.4,
          44297.9,
          44297.4,
          44216.1,
          44160.1,
          44181.6,
          44124.6,
          44174.1,
          44234.1,
          44225.1,
          44254.1,
          44269.1,
          44263.6,
          44259.6,
          44243.1,
          44272.8,
          44221.3,
          44237.3,
          44221.3,
          44251.3,
          44242.8,
          44297.3,
          44268.3,
          44268.3,
          44240.3,
          44235.8,
          44245.8,
          44263.8,
          44236.3,
          44204.8,
          44208.3,
          44203.3,
          44202.8,
          44193.8,
          44257.3,
          44265.3,
          44247.3,
          44273.8,
          44265.8,
          44250.3,
          44245.8,
          44229.3,
          44245.8,
          44246.3,
          44247.8,
          44246.3,
          44259.8,
          44268.3,
          44261.8,
          44268.8,
          44259.3
         ],
         "low": [
          44191.7,
          44213.2,
          44215.7,
          44219.2,
          44228.7,
          44178.7,
          44102.2,
          44166.2,
          44164.2,
          44172.2,
          44159.2,
          44181.2,
          44215.2,
          44179.7,
          44156.7,
          44139.2,
          44140.7,
          44136.7,
          44160.5,
          44137.5,
          44054,
          44006,
          43943.5,
          43913.5,
          43961,
          44004,
          44007,
          44017.5,
          44064,
          44107,
          44105.5,
          44081,
          44156,
          44189,
          44211,
          44191,
          44137,
          44093,
          44078,
          44091.5,
          44119,
          44141,
          44122,
          44096,
          44070,
          44102,
          44110,
          44112.7,
          44086.9,
          44072.9,
          44110.4,
          44119.4,
          44122.9,
          44128.9,
          44111.9,
          44104.4,
          44099.4,
          44124.4,
          44126.9,
          44121.4,
          44116.4,
          44121.4,
          44128.4,
          44159.4,
          44185.4,
          44191.9,
          44224.9,
          44224.4,
          44213.9,
          44212.4,
          44219.4,
          44224.9,
          44233.9,
          44229.4,
          44232.9,
          44234.9,
          44240.4,
          44245.4,
          44264.4,
          44283.4,
          44275.4,
          44276.9,
          44307.9,
          44290.9,
          44299.9,
          44330.4,
          44329.9,
          44337.4,
          44327.4,
          44300.9,
          44273.9,
          44275.4,
          44274.9,
          44259.9,
          44251.9,
          44240.4,
          44242.4,
          44244.4,
          44229.9,
          44213.9,
          44250.4,
          44267.9,
          44259.4,
          44256.4,
          44218.9,
          44216.4,
          44227.9,
          44238.9,
          44259.9,
          44206.4,
          44068.1,
          44030.6,
          44067.1,
          44007.6,
          44020.6,
          44163.6,
          44144.1,
          44173.6,
          44145.1,
          44207.1,
          44221.1,
          44208.6,
          44206.3,
          44178.8,
          44194.3,
          44181.8,
          44210.3,
          44209.8,
          44233.3,
          44231.3,
          44229.3,
          44198.8,
          44203.8,
          44218.8,
          44229.3,
          44186.8,
          44182.8,
          44181.8,
          44179.8,
          44177.8,
          44139.8,
          44177.3,
          44222.3,
          44220.8,
          44241.8,
          44240.3,
          44236.8,
          44217.3,
          44208.8,
          44210.8,
          44228.3,
          44229.3,
          44228.8,
          44234.8,
          44250.3,
          44243.8,
          44245.8,
          44237.8
         ],
         "open": [
          44199.7,
          44213.7,
          44224.2,
          44238.7,
          44229.2,
          44262.2,
          44179.7,
          44175.2,
          44181.2,
          44180.7,
          44173.7,
          44183.2,
          44224.2,
          44269.2,
          44211.2,
          44159.2,
          44164.7,
          44151.2,
          44175.7,
          44232,
          44080.5,
          44074,
          44052.5,
          43956.5,
          43981.5,
          44030,
          44040.5,
          44042,
          44079,
          44108,
          44139,
          44118,
          44168.5,
          44199.5,
          44227,
          44223,
          44195,
          44138,
          44107,
          44111,
          44121,
          44162,
          44158,
          44123,
          44115.5,
          44139,
          44127,
          44119.5,
          44156.9,
          44089.4,
          44116.9,
          44123.9,
          44136.9,
          44139.9,
          44133.4,
          44148.4,
          44103.4,
          44143.4,
          44141.4,
          44144.4,
          44129.4,
          44133.9,
          44130.4,
          44175.4,
          44200.9,
          44195.4,
          44226.9,
          44239.4,
          44231.9,
          44215.9,
          44223.4,
          44226.9,
          44233.9,
          44235.4,
          44238.9,
          44237.4,
          44246.4,
          44251.4,
          44266.9,
          44295.9,
          44289.9,
          44279.4,
          44317.4,
          44315.9,
          44300.9,
          44356.4,
          44346.4,
          44360.4,
          44355.9,
          44331.9,
          44304.4,
          44282.4,
          44282.4,
          44290.9,
          44274.4,
          44257.9,
          44258.4,
          44279.4,
          44278.4,
          44240.9,
          44260.9,
          44277.4,
          44276.4,
          44274.4,
          44254.9,
          44223.9,
          44243.4,
          44252.9,
          44265.9,
          44297.4,
          44213.6,
          44116.6,
          44080.1,
          44110.1,
          44040.1,
          44163.6,
          44218.1,
          44177.1,
          44238.6,
          44209.1,
          44250.1,
          44235.1,
          44226.6,
          44207.3,
          44211.8,
          44204.3,
          44218.3,
          44234.3,
          44237.8,
          44252.8,
          44253.8,
          44235.3,
          44205.8,
          44226.3,
          44234.8,
          44232.3,
          44197.8,
          44191.8,
          44203.3,
          44186.3,
          44171.3,
          44178.8,
          44247.3,
          44223.8,
          44245.8,
          44264.8,
          44241.8,
          44238.8,
          44226.8,
          44221.3,
          44231.8,
          44232.8,
          44234.3,
          44239.8,
          44257.8,
          44256.3,
          44250.8,
          44259.3
         ],
         "type": "candlestick",
         "x": [
          "2025-08-05T12:00:00",
          "2025-08-05T12:15:00",
          "2025-08-05T12:30:00",
          "2025-08-05T12:45:00",
          "2025-08-05T13:00:00",
          "2025-08-05T13:15:00",
          "2025-08-05T13:30:00",
          "2025-08-05T13:45:00",
          "2025-08-05T14:00:00",
          "2025-08-05T14:15:00",
          "2025-08-05T14:30:00",
          "2025-08-05T14:45:00",
          "2025-08-05T15:00:00",
          "2025-08-05T15:15:00",
          "2025-08-05T15:30:00",
          "2025-08-05T15:45:00",
          "2025-08-05T16:00:00",
          "2025-08-05T16:15:00",
          "2025-08-05T16:30:00",
          "2025-08-05T16:45:00",
          "2025-08-05T17:00:00",
          "2025-08-05T17:15:00",
          "2025-08-05T17:30:00",
          "2025-08-05T17:45:00",
          "2025-08-05T18:00:00",
          "2025-08-05T18:15:00",
          "2025-08-05T18:30:00",
          "2025-08-05T18:45:00",
          "2025-08-05T19:00:00",
          "2025-08-05T19:15:00",
          "2025-08-05T19:30:00",
          "2025-08-05T19:45:00",
          "2025-08-05T20:00:00",
          "2025-08-05T20:15:00",
          "2025-08-05T20:30:00",
          "2025-08-05T20:45:00",
          "2025-08-05T21:00:00",
          "2025-08-05T21:15:00",
          "2025-08-05T21:30:00",
          "2025-08-05T21:45:00",
          "2025-08-05T22:00:00",
          "2025-08-05T22:15:00",
          "2025-08-05T22:30:00",
          "2025-08-05T22:45:00",
          "2025-08-05T23:00:00",
          "2025-08-05T23:15:00",
          "2025-08-05T23:30:00",
          "2025-08-05T23:45:00",
          "2025-08-06T01:00:00",
          "2025-08-06T01:15:00",
          "2025-08-06T01:30:00",
          "2025-08-06T01:45:00",
          "2025-08-06T02:00:00",
          "2025-08-06T02:15:00",
          "2025-08-06T02:30:00",
          "2025-08-06T02:45:00",
          "2025-08-06T03:00:00",
          "2025-08-06T03:15:00",
          "2025-08-06T03:30:00",
          "2025-08-06T03:45:00",
          "2025-08-06T04:00:00",
          "2025-08-06T04:15:00",
          "2025-08-06T04:30:00",
          "2025-08-06T04:45:00",
          "2025-08-06T05:00:00",
          "2025-08-06T05:15:00",
          "2025-08-06T05:30:00",
          "2025-08-06T05:45:00",
          "2025-08-06T06:00:00",
          "2025-08-06T06:15:00",
          "2025-08-06T06:30:00",
          "2025-08-06T06:45:00",
          "2025-08-06T07:00:00",
          "2025-08-06T07:15:00",
          "2025-08-06T07:30:00",
          "2025-08-06T07:45:00",
          "2025-08-06T08:00:00",
          "2025-08-06T08:15:00",
          "2025-08-06T08:30:00",
          "2025-08-06T08:45:00",
          "2025-08-06T09:00:00",
          "2025-08-06T09:15:00",
          "2025-08-06T09:30:00",
          "2025-08-06T09:45:00",
          "2025-08-06T10:00:00",
          "2025-08-06T10:15:00",
          "2025-08-06T10:30:00",
          "2025-08-06T10:45:00",
          "2025-08-06T11:00:00",
          "2025-08-06T11:15:00",
          "2025-08-06T11:30:00",
          "2025-08-06T11:45:00",
          "2025-08-06T12:00:00",
          "2025-08-06T12:15:00",
          "2025-08-06T12:30:00",
          "2025-08-06T12:45:00",
          "2025-08-06T13:00:00",
          "2025-08-06T13:15:00",
          "2025-08-06T13:30:00",
          "2025-08-06T13:45:00",
          "2025-08-06T14:00:00",
          "2025-08-06T14:15:00",
          "2025-08-06T14:30:00",
          "2025-08-06T14:45:00",
          "2025-08-06T15:00:00",
          "2025-08-06T15:15:00",
          "2025-08-06T15:30:00",
          "2025-08-06T15:45:00",
          "2025-08-06T16:00:00",
          "2025-08-06T16:15:00",
          "2025-08-06T16:30:00",
          "2025-08-06T16:45:00",
          "2025-08-06T17:00:00",
          "2025-08-06T17:15:00",
          "2025-08-06T17:30:00",
          "2025-08-06T17:45:00",
          "2025-08-06T18:00:00",
          "2025-08-06T18:15:00",
          "2025-08-06T18:30:00",
          "2025-08-06T18:45:00",
          "2025-08-06T19:00:00",
          "2025-08-06T19:15:00",
          "2025-08-06T19:30:00",
          "2025-08-06T19:45:00",
          "2025-08-06T20:00:00",
          "2025-08-06T20:15:00",
          "2025-08-06T20:30:00",
          "2025-08-06T20:45:00",
          "2025-08-06T21:00:00",
          "2025-08-06T21:15:00",
          "2025-08-06T21:30:00",
          "2025-08-06T21:45:00",
          "2025-08-06T22:00:00",
          "2025-08-06T22:15:00",
          "2025-08-06T22:30:00",
          "2025-08-06T22:45:00",
          "2025-08-06T23:00:00",
          "2025-08-06T23:15:00",
          "2025-08-06T23:30:00",
          "2025-08-06T23:45:00",
          "2025-08-07T01:00:00",
          "2025-08-07T01:15:00",
          "2025-08-07T01:30:00",
          "2025-08-07T01:45:00",
          "2025-08-07T02:00:00",
          "2025-08-07T02:15:00",
          "2025-08-07T02:30:00",
          "2025-08-07T02:45:00",
          "2025-08-07T03:00:00",
          "2025-08-07T03:15:00",
          "2025-08-07T03:30:00",
          "2025-08-07T03:45:00",
          "2025-08-07T04:00:00",
          "2025-08-07T04:15:00",
          "2025-08-07T04:30:00",
          "2025-08-07T04:45:00",
          "2025-08-07T05:00:00",
          "2025-08-07T05:15:00"
         ]
        }
       ],
       "layout": {
        "autosize": true,
        "template": {
         "data": {
          "bar": [
           {
            "error_x": {
             "color": "#2a3f5f"
            },
            "error_y": {
             "color": "#2a3f5f"
            },
            "marker": {
             "line": {
              "color": "#E5ECF6",
              "width": 0.5
             },
             "pattern": {
              "fillmode": "overlay",
              "size": 10,
              "solidity": 0.2
             }
            },
            "type": "bar"
           }
          ],
          "barpolar": [
           {
            "marker": {
             "line": {
              "color": "#E5ECF6",
              "width": 0.5
             },
             "pattern": {
              "fillmode": "overlay",
              "size": 10,
              "solidity": 0.2
             }
            },
            "type": "barpolar"
           }
          ],
          "carpet": [
           {
            "aaxis": {
             "endlinecolor": "#2a3f5f",
             "gridcolor": "white",
             "linecolor": "white",
             "minorgridcolor": "white",
             "startlinecolor": "#2a3f5f"
            },
            "baxis": {
             "endlinecolor": "#2a3f5f",
             "gridcolor": "white",
             "linecolor": "white",
             "minorgridcolor": "white",
             "startlinecolor": "#2a3f5f"
            },
            "type": "carpet"
           }
          ],
          "choropleth": [
           {
            "colorbar": {
             "outlinewidth": 0,
             "ticks": ""
            },
            "type": "choropleth"
           }
          ],
          "contour": [
           {
            "colorbar": {
             "outlinewidth": 0,
             "ticks": ""
            },
            "colorscale": [
             [
              0,
              "#0d0887"
             ],
             [
              0.1111111111111111,
              "#46039f"
             ],
             [
              0.2222222222222222,
              "#7201a8"
             ],
             [
              0.3333333333333333,
              "#9c179e"
             ],
             [
              0.4444444444444444,
              "#bd3786"
             ],
             [
              0.5555555555555556,
              "#d8576b"
             ],
             [
              0.6666666666666666,
              "#ed7953"
             ],
             [
              0.7777777777777778,
              "#fb9f3a"
             ],
             [
              0.8888888888888888,
              "#fdca26"
             ],
             [
              1,
              "#f0f921"
             ]
            ],
            "type": "contour"
           }
          ],
          "contourcarpet": [
           {
            "colorbar": {
             "outlinewidth": 0,
             "ticks": ""
            },
            "type": "contourcarpet"
           }
          ],
          "heatmap": [
           {
            "colorbar": {
             "outlinewidth": 0,
             "ticks": ""
            },
            "colorscale": [
             [
              0,
              "#0d0887"
             ],
             [
              0.1111111111111111,
              "#46039f"
             ],
             [
              0.2222222222222222,
              "#7201a8"
             ],
             [
              0.3333333333333333,
              "#9c179e"
             ],
             [
              0.4444444444444444,
              "#bd3786"
             ],
             [
              0.5555555555555556,
              "#d8576b"
             ],
             [
              0.6666666666666666,
              "#ed7953"
             ],
             [
              0.7777777777777778,
              "#fb9f3a"
             ],
             [
              0.8888888888888888,
              "#fdca26"
             ],
             [
              1,
              "#f0f921"
             ]
            ],
            "type": "heatmap"
           }
          ],
          "heatmapgl": [
           {
            "colorbar": {
             "outlinewidth": 0,
             "ticks": ""
            },
            "colorscale": [
             [
              0,
              "#0d0887"
             ],
             [
              0.1111111111111111,
              "#46039f"
             ],
             [
              0.2222222222222222,
              "#7201a8"
             ],
             [
              0.3333333333333333,
              "#9c179e"
             ],
             [
              0.4444444444444444,
              "#bd3786"
             ],
             [
              0.5555555555555556,
              "#d8576b"
             ],
             [
              0.6666666666666666,
              "#ed7953"
             ],
             [
              0.7777777777777778,
              "#fb9f3a"
             ],
             [
              0.8888888888888888,
              "#fdca26"
             ],
             [
              1,
              "#f0f921"
             ]
            ],
            "type": "heatmapgl"
           }
          ],
          "histogram": [
           {
            "marker": {
             "pattern": {
              "fillmode": "overlay",
              "size": 10,
              "solidity": 0.2
             }
            },
            "type": "histogram"
           }
          ],
          "histogram2d": [
           {
            "colorbar": {
             "outlinewidth": 0,
             "ticks": ""
            },
            "colorscale": [
             [
              0,
              "#0d0887"
             ],
             [
              0.1111111111111111,
              "#46039f"
             ],
             [
              0.2222222222222222,
              "#7201a8"
             ],
             [
              0.3333333333333333,
              "#9c179e"
             ],
             [
              0.4444444444444444,
              "#bd3786"
             ],
             [
              0.5555555555555556,
              "#d8576b"
             ],
             [
              0.6666666666666666,
              "#ed7953"
             ],
             [
              0.7777777777777778,
              "#fb9f3a"
             ],
             [
              0.8888888888888888,
              "#fdca26"
             ],
             [
              1,
              "#f0f921"
             ]
            ],
            "type": "histogram2d"
           }
          ],
          "histogram2dcontour": [
           {
            "colorbar": {
             "outlinewidth": 0,
             "ticks": ""
            },
            "colorscale": [
             [
              0,
              "#0d0887"
             ],
             [
              0.1111111111111111,
              "#46039f"
             ],
             [
              0.2222222222222222,
              "#7201a8"
             ],
             [
              0.3333333333333333,
              "#9c179e"
             ],
             [
              0.4444444444444444,
              "#bd3786"
             ],
             [
              0.5555555555555556,
              "#d8576b"
             ],
             [
              0.6666666666666666,
              "#ed7953"
             ],
             [
              0.7777777777777778,
              "#fb9f3a"
             ],
             [
              0.8888888888888888,
              "#fdca26"
             ],
             [
              1,
              "#f0f921"
             ]
            ],
            "type": "histogram2dcontour"
           }
          ],
          "mesh3d": [
           {
            "colorbar": {
             "outlinewidth": 0,
             "ticks": ""
            },
            "type": "mesh3d"
           }
          ],
          "parcoords": [
           {
            "line": {
             "colorbar": {
              "outlinewidth": 0,
              "ticks": ""
             }
            },
            "type": "parcoords"
           }
          ],
          "pie": [
           {
            "automargin": true,
            "type": "pie"
           }
          ],
          "scatter": [
           {
            "fillpattern": {
             "fillmode": "overlay",
             "size": 10,
             "solidity": 0.2
            },
            "type": "scatter"
           }
          ],
          "scatter3d": [
           {
            "line": {
             "colorbar": {
              "outlinewidth": 0,
              "ticks": ""
             }
            },
            "marker": {
             "colorbar": {
              "outlinewidth": 0,
              "ticks": ""
             }
            },
            "type": "scatter3d"
           }
          ],
          "scattercarpet": [
           {
            "marker": {
             "colorbar": {
              "outlinewidth": 0,
              "ticks": ""
             }
            },
            "type": "scattercarpet"
           }
          ],
          "scattergeo": [
           {
            "marker": {
             "colorbar": {
              "outlinewidth": 0,
              "ticks": ""
             }
            },
            "type": "scattergeo"
           }
          ],
          "scattergl": [
           {
            "marker": {
             "colorbar": {
              "outlinewidth": 0,
              "ticks": ""
             }
            },
            "type": "scattergl"
           }
          ],
          "scattermapbox": [
           {
            "marker": {
             "colorbar": {
              "outlinewidth": 0,
              "ticks": ""
             }
            },
            "type": "scattermapbox"
           }
          ],
          "scatterpolar": [
           {
            "marker": {
             "colorbar": {
              "outlinewidth": 0,
              "ticks": ""
             }
            },
            "type": "scatterpolar"
           }
          ],
          "scatterpolargl": [
           {
            "marker": {
             "colorbar": {
              "outlinewidth": 0,
              "ticks": ""
             }
            },
            "type": "scatterpolargl"
           }
          ],
          "scatterternary": [
           {
            "marker": {
             "colorbar": {
              "outlinewidth": 0,
              "ticks": ""
             }
            },
            "type": "scatterternary"
           }
          ],
          "surface": [
           {
            "colorbar": {
             "outlinewidth": 0,
             "ticks": ""
            },
            "colorscale": [
             [
              0,
              "#0d0887"
             ],
             [
              0.1111111111111111,
              "#46039f"
             ],
             [
              0.2222222222222222,
              "#7201a8"
             ],
             [
              0.3333333333333333,
              "#9c179e"
             ],
             [
              0.4444444444444444,
              "#bd3786"
             ],
             [
              0.5555555555555556,
              "#d8576b"
             ],
             [
              0.6666666666666666,
              "#ed7953"
             ],
             [
              0.7777777777777778,
              "#fb9f3a"
             ],
             [
              0.8888888888888888,
              "#fdca26"
             ],
             [
              1,
              "#f0f921"
             ]
            ],
            "type": "surface"
           }
          ],
          "table": [
           {
            "cells": {
             "fill": {
              "color": "#EBF0F8"
             },
             "line": {
              "color": "white"
             }
            },
            "header": {
             "fill": {
              "color": "#C8D4E3"
             },
             "line": {
              "color": "white"
             }
            },
            "type": "table"
           }
          ]
         },
         "layout": {
          "annotationdefaults": {
           "arrowcolor": "#2a3f5f",
           "arrowhead": 0,
           "arrowwidth": 1
          },
          "autotypenumbers": "strict",
          "coloraxis": {
           "colorbar": {
            "outlinewidth": 0,
            "ticks": ""
           }
          },
          "colorscale": {
           "diverging": [
            [
             0,
             "#8e0152"
            ],
            [
             0.1,
             "#c51b7d"
            ],
            [
             0.2,
             "#de77ae"
            ],
            [
             0.3,
             "#f1b6da"
            ],
            [
             0.4,
             "#fde0ef"
            ],
            [
             0.5,
             "#f7f7f7"
            ],
            [
             0.6,
             "#e6f5d0"
            ],
            [
             0.7,
             "#b8e186"
            ],
            [
             0.8,
             "#7fbc41"
            ],
            [
             0.9,
             "#4d9221"
            ],
            [
             1,
             "#276419"
            ]
           ],
           "sequential": [
            [
             0,
             "#0d0887"
            ],
            [
             0.1111111111111111,
             "#46039f"
            ],
            [
             0.2222222222222222,
             "#7201a8"
            ],
            [
             0.3333333333333333,
             "#9c179e"
            ],
            [
             0.4444444444444444,
             "#bd3786"
            ],
            [
             0.5555555555555556,
             "#d8576b"
            ],
            [
             0.6666666666666666,
             "#ed7953"
            ],
            [
             0.7777777777777778,
             "#fb9f3a"
            ],
            [
             0.8888888888888888,
             "#fdca26"
            ],
            [
             1,
             "#f0f921"
            ]
           ],
           "sequentialminus": [
            [
             0,
             "#0d0887"
            ],
            [
             0.1111111111111111,
             "#46039f"
            ],
            [
             0.2222222222222222,
             "#7201a8"
            ],
            [
             0.3333333333333333,
             "#9c179e"
            ],
            [
             0.4444444444444444,
             "#bd3786"
            ],
            [
             0.5555555555555556,
             "#d8576b"
            ],
            [
             0.6666666666666666,
             "#ed7953"
            ],
            [
             0.7777777777777778,
             "#fb9f3a"
            ],
            [
             0.8888888888888888,
             "#fdca26"
            ],
            [
             1,
             "#f0f921"
            ]
           ]
          },
          "colorway": [
           "#636efa",
           "#EF553B",
           "#00cc96",
           "#ab63fa",
           "#FFA15A",
           "#19d3f3",
           "#FF6692",
           "#B6E880",
           "#FF97FF",
           "#FECB52"
          ],
          "font": {
           "color": "#2a3f5f"
          },
          "geo": {
           "bgcolor": "white",
           "lakecolor": "white",
           "landcolor": "#E5ECF6",
           "showlakes": true,
           "showland": true,
           "subunitcolor": "white"
          },
          "hoverlabel": {
           "align": "left"
          },
          "hovermode": "closest",
          "mapbox": {
           "style": "light"
          },
          "paper_bgcolor": "white",
          "plot_bgcolor": "#E5ECF6",
          "polar": {
           "angularaxis": {
            "gridcolor": "white",
            "linecolor": "white",
            "ticks": ""
           },
           "bgcolor": "#E5ECF6",
           "radialaxis": {
            "gridcolor": "white",
            "linecolor": "white",
            "ticks": ""
           }
          },
          "scene": {
           "xaxis": {
            "backgroundcolor": "#E5ECF6",
            "gridcolor": "white",
            "gridwidth": 2,
            "linecolor": "white",
            "showbackground": true,
            "ticks": "",
            "zerolinecolor": "white"
           },
           "yaxis": {
            "backgroundcolor": "#E5ECF6",
            "gridcolor": "white",
            "gridwidth": 2,
            "linecolor": "white",
            "showbackground": true,
            "ticks": "",
            "zerolinecolor": "white"
           },
           "zaxis": {
            "backgroundcolor": "#E5ECF6",
            "gridcolor": "white",
            "gridwidth": 2,
            "linecolor": "white",
            "showbackground": true,
            "ticks": "",
            "zerolinecolor": "white"
           }
          },
          "shapedefaults": {
           "line": {
            "color": "#2a3f5f"
           }
          },
          "ternary": {
           "aaxis": {
            "gridcolor": "white",
            "linecolor": "white",
            "ticks": ""
           },
           "baxis": {
            "gridcolor": "white",
            "linecolor": "white",
            "ticks": ""
           },
           "bgcolor": "#E5ECF6",
           "caxis": {
            "gridcolor": "white",
            "linecolor": "white",
            "ticks": ""
           }
          },
          "title": {
           "x": 0.05
          },
          "xaxis": {
           "automargin": true,
           "gridcolor": "white",
           "linecolor": "white",
           "ticks": "",
           "title": {
            "standoff": 15
           },
           "zerolinecolor": "white",
           "zerolinewidth": 2
          },
          "yaxis": {
           "automargin": true,
           "gridcolor": "white",
           "linecolor": "white",
           "ticks": "",
           "title": {
            "standoff": 15
           },
           "zerolinecolor": "white",
           "zerolinewidth": 2
          }
         }
        },
        "title": {
         "text": "US30 - 15M Candlestick Chart on 2025-08-06"
        },
        "xaxis": {
         "autorange": true,
         "range": [
          "2025-08-05 11:52:30",
          "2025-08-07 05:22:30"
         ],
         "rangeslider": {
          "visible": false,
          "yaxis": {}
         },
         "title": {
          "text": "Time"
         },
         "type": "date"
        },
        "yaxis": {
         "autorange": true,
         "range": [
          43888.45,
          44389.450000000004
         ],
         "title": {
          "text": "Price"
         }
        }
       }
      },
      "image/png": "[encoded data removed]",
      "text/html": [
       "<div>                            <div id=\"9b72d39d-8044-4f10-89f0-87203e35bcb9\" class=\"plotly-graph-div\" style=\"height:525px; width:100%;\"></div>            <script type=\"text/javascript\">                require([\"plotly\"], function(Plotly) {                    window.PLOTLYENV=window.PLOTLYENV || {};                                    if (document.getElementById(\"9b72d39d-8044-4f10-89f0-87203e35bcb9\")) {                    Plotly.newPlot(                        \"9b72d39d-8044-4f10-89f0-87203e35bcb9\",                        [{\"close\":[44214.2,44223.7,44240.2,44229.7,44262.7,44182.7,44172.7,44181.7,44179.2,44175.2,44182.2,44224.7,44268.7,44213.2,44157.2,44164.2,44150.7,44175.2,44232.5,44161.5,44075.0,44053.5,43956.0,43982.5,44031.0,44040.0,44043.0,44080.0,44109.0,44140.0,44119.0,44169.0,44200.0,44228.0,44223.5,44196.0,44137.5,44107.5,44110.5,44120.0,44162.5,44157.5,44123.5,44114.5,44139.0,44126.5,44120.0,44137.0,44088.9,44117.4,44123.4,44137.4,44139.4,44131.9,44147.9,44104.4,44144.4,44142.9,44142.9,44128.4,44134.4,44131.4,44174.9,44201.4,44195.9,44226.4,44240.9,44231.4,44216.4,44222.9,44226.4,44232.9,44235.9,44238.4,44236.9,44245.9,44250.9,44266.4,44296.4,44289.9,44280.4,44317.9,44315.4,44299.9,44357.9,44345.9,44359.9,44354.9,44330.9,44303.4,44280.9,44283.4,44291.4,44273.9,44256.9,44259.9,44279.9,44277.9,44239.9,44260.4,44280.9,44275.9,44273.9,44256.9,44222.9,44243.9,44253.9,44266.4,44297.9,44213.4,44116.1,44078.6,44109.1,44040.6,44163.1,44217.1,44177.6,44240.1,44208.1,44250.6,44236.1,44226.1,44206.3,44212.3,44204.8,44217.3,44234.8,44237.3,44252.3,44253.3,44236.3,44206.8,44225.8,44233.8,44232.8,44199.3,44191.8,44202.8,44186.8,44202.8,44177.8,44248.3,44223.3,44244.3,44263.3,44242.3,44239.8,44225.8,44220.3,44230.3,44232.3,44234.8,44240.8,44258.3,44256.8,44251.3,44259.8,44241.8],\"high\":[44218.2,44228.2,44249.2,44240.2,44270.7,44279.7,44202.2,44188.2,44200.2,44193.2,44192.2,44227.2,44277.7,44273.2,44211.2,44180.7,44177.2,44177.7,44296.5,44262.0,44161.5,44097.0,44053.5,43990.5,44045.5,44065.5,44072.0,44085.0,44130.0,44141.5,44184.5,44182.0,44201.0,44238.0,44242.5,44246.0,44205.0,44141.0,44126.0,44131.0,44175.5,44175.5,44170.0,44149.0,44146.0,44149.0,44129.5,44145.0,44162.4,44130.9,44127.4,44140.4,44140.9,44155.4,44147.9,44156.9,44153.4,44154.4,44157.4,44144.9,44137.4,44136.4,44192.9,44204.9,44204.4,44226.4,44244.9,44240.9,44233.9,44234.9,44236.9,44236.9,44246.9,44241.9,44246.4,44246.9,44257.9,44266.4,44299.4,44310.4,44301.9,44322.4,44330.9,44324.9,44358.9,44364.4,44361.4,44360.4,44356.9,44336.9,44315.9,44296.9,44294.9,44291.4,44278.9,44263.9,44284.9,44286.4,44292.4,44271.4,44307.9,44298.9,44294.4,44279.9,44273.9,44259.9,44257.4,44269.4,44297.9,44297.4,44216.1,44160.1,44181.6,44124.6,44174.1,44234.1,44225.1,44254.1,44269.1,44263.6,44259.6,44243.1,44272.8,44221.3,44237.3,44221.3,44251.3,44242.8,44297.3,44268.3,44268.3,44240.3,44235.8,44245.8,44263.8,44236.3,44204.8,44208.3,44203.3,44202.8,44193.8,44257.3,44265.3,44247.3,44273.8,44265.8,44250.3,44245.8,44229.3,44245.8,44246.3,44247.8,44246.3,44259.8,44268.3,44261.8,44268.8,44259.3],\"low\":[44191.7,44213.2,44215.7,44219.2,44228.7,44178.7,44102.2,44166.2,44164.2,44172.2,44159.2,44181.2,44215.2,44179.7,44156.7,44139.2,44140.7,44136.7,44160.5,44137.5,44054.0,44006.0,43943.5,43913.5,43961.0,44004.0,44007.0,44017.5,44064.0,44107.0,44105.5,44081.0,44156.0,44189.0,44211.0,44191.0,44137.0,44093.0,44078.0,44091.5,44119.0,44141.0,44122.0,44096.0,44070.0,44102.0,44110.0,44112.7,44086.9,44072.9,44110.4,44119.4,44122.9,44128.9,44111.9,44104.4,44099.4,44124.4,44126.9,44121.4,44116.4,44121.4,44128.4,44159.4,44185.4,44191.9,44224.9,44224.4,44213.9,44212.4,44219.4,44224.9,44233.9,44229.4,44232.9,44234.9,44240.4,44245.4,44264.4,44283.4,44275.4,44276.9,44307.9,44290.9,44299.9,44330.4,44329.9,44337.4,44327.4,44300.9,44273.9,44275.4,44274.9,44259.9,44251.9,44240.4,44242.4,44244.4,44229.9,44213.9,44250.4,44267.9,44259.4,44256.4,44218.9,44216.4,44227.9,44238.9,44259.9,44206.4,44068.1,44030.6,44067.1,44007.6,44020.6,44163.6,44144.1,44173.6,44145.1,44207.1,44221.1,44208.6,44206.3,44178.8,44194.3,44181.8,44210.3,44209.8,44233.3,44231.3,44229.3,44198.8,44203.8,44218.8,44229.3,44186.8,44182.8,44181.8,44179.8,44177.8,44139.8,44177.3,44222.3,44220.8,44241.8,44240.3,44236.8,44217.3,44208.8,44210.8,44228.3,44229.3,44228.8,44234.8,44250.3,44243.8,44245.8,44237.8],\"open\":[44199.7,44213.7,44224.2,44238.7,44229.2,44262.2,44179.7,44175.2,44181.2,44180.7,44173.7,44183.2,44224.2,44269.2,44211.2,44159.2,44164.7,44151.2,44175.7,44232.0,44080.5,44074.0,44052.5,43956.5,43981.5,44030.0,44040.5,44042.0,44079.0,44108.0,44139.0,44118.0,44168.5,44199.5,44227.0,44223.0,44195.0,44138.0,44107.0,44111.0,44121.0,44162.0,44158.0,44123.0,44115.5,44139.0,44127.0,44119.5,44156.9,44089.4,44116.9,44123.9,44136.9,44139.9,44133.4,44148.4,44103.4,44143.4,44141.4,44144.4,44129.4,44133.9,44130.4,44175.4,44200.9,44195.4,44226.9,44239.4,44231.9,44215.9,44223.4,44226.9,44233.9,44235.4,44238.9,44237.4,44246.4,44251.4,44266.9,44295.9,44289.9,44279.4,44317.4,44315.9,44300.9,44356.4,44346.4,44360.4,44355.9,44331.9,44304.4,44282.4,44282.4,44290.9,44274.4,44257.9,44258.4,44279.4,44278.4,44240.9,44260.9,44277.4,44276.4,44274.4,44254.9,44223.9,44243.4,44252.9,44265.9,44297.4,44213.6,44116.6,44080.1,44110.1,44040.1,44163.6,44218.1,44177.1,44238.6,44209.1,44250.1,44235.1,44226.6,44207.3,44211.8,44204.3,44218.3,44234.3,44237.8,44252.8,44253.8,44235.3,44205.8,44226.3,44234.8,44232.3,44197.8,44191.8,44203.3,44186.3,44171.3,44178.8,44247.3,44223.8,44245.8,44264.8,44241.8,44238.8,44226.8,44221.3,44231.8,44232.8,44234.3,44239.8,44257.8,44256.3,44250.8,44259.3],\"x\":[\"2025-08-05T12:00:00\",\"2025-08-05T12:15:00\",\"2025-08-05T12:30:00\",\"2025-08-05T12:45:00\",\"2025-08-05T13:00:00\",\"2025-08-05T13:15:00\",\"2025-08-05T13:30:00\",\"2025-08-05T13:45:00\",\"2025-08-05T14:00:00\",\"2025-08-05T14:15:00\",\"2025-08-05T14:30:00\",\"2025-08-05T14:45:00\",\"2025-08-05T15:00:00\",\"2025-08-05T15:15:00\",\"2025-08-05T15:30:00\",\"2025-08-05T15:45:00\",\"2025-08-05T16:00:00\",\"2025-08-05T16:15:00\",\"2025-08-05T16:30:00\",\"2025-08-05T16:45:00\",\"2025-08-05T17:00:00\",\"2025-08-05T17:15:00\",\"2025-08-05T17:30:00\",\"2025-08-05T17:45:00\",\"2025-08-05T18:00:00\",\"2025-08-05T18:15:00\",\"2025-08-05T18:30:00\",\"2025-08-05T18:45:00\",\"2025-08-05T19:00:00\",\"2025-08-05T19:15:00\",\"2025-08-05T19:30:00\",\"2025-08-05T19:45:00\",\"2025-08-05T20:00:00\",\"2025-08-05T20:15:00\",\"2025-08-05T20:30:00\",\"2025-08-05T20:45:00\",\"2025-08-05T21:00:00\",\"2025-08-05T21:15:00\",\"2025-08-05T21:30:00\",\"2025-08-05T21:45:00\",\"2025-08-05T22:00:00\",\"2025-08-05T22:15:00\",\"2025-08-05T22:30:00\",\"2025-08-05T22:45:00\",\"2025-08-05T23:00:00\",\"2025-08-05T23:15:00\",\"2025-08-05T23:30:00\",\"2025-08-05T23:45:00\",\"2025-08-06T01:00:00\",\"2025-08-06T01:15:00\",\"2025-08-06T01:30:00\",\"2025-08-06T01:45:00\",\"2025-08-06T02:00:00\",\"2025-08-06T02:15:00\",\"2025-08-06T02:30:00\",\"2025-08-06T02:45:00\",\"2025-08-06T03:00:00\",\"2025-08-06T03:15:00\",\"2025-08-06T03:30:00\",\"2025-08-06T03:45:00\",\"2025-08-06T04:00:00\",\"2025-08-06T04:15:00\",\"2025-08-06T04:30:00\",\"2025-08-06T04:45:00\",\"2025-08-06T05:00:00\",\"2025-08-06T05:15:00\",\"2025-08-06T05:30:00\",\"2025-08-06T05:45:00\",\"2025-08-06T06:00:00\",\"2025-08-06T06:15:00\",\"2025-08-06T06:30:00\",\"2025-08-06T06:45:00\",\"2025-08-06T07:00:00\",\"2025-08-06T07:15:00\",\"2025-08-06T07:30:00\",\"2025-08-06T07:45:00\",\"2025-08-06T08:00:00\",\"2025-08-06T08:15:00\",\"2025-08-06T08:30:00\",\"2025-08-06T08:45:00\",\"2025-08-06T09:00:00\",\"2025-08-06T09:15:00\",\"2025-08-06T09:30:00\",\"2025-08-06T09:45:00\",\"2025-08-06T10:00:00\",\"2025-08-06T10:15:00\",\"2025-08-06T10:30:00\",\"2025-08-06T10:45:00\",\"2025-08-06T11:00:00\",\"2025-08-06T11:15:00\",\"2025-08-06T11:30:00\",\"2025-08-06T11:45:00\",\"2025-08-06T12:00:00\",\"2025-08-06T12:15:00\",\"2025-08-06T12:30:00\",\"2025-08-06T12:45:00\",\"2025-08-06T13:00:00\",\"2025-08-06T13:15:00\",\"2025-08-06T13:30:00\",\"2025-08-06T13:45:00\",\"2025-08-06T14:00:00\",\"2025-08-06T14:15:00\",\"2025-08-06T14:30:00\",\"2025-08-06T14:45:00\",\"2025-08-06T15:00:00\",\"2025-08-06T15:15:00\",\"2025-08-06T15:30:00\",\"2025-08-06T15:45:00\",\"2025-08-06T16:00:00\",\"2025-08-06T16:15:00\",\"2025-08-06T16:30:00\",\"2025-08-06T16:45:00\",\"2025-08-06T17:00:00\",\"2025-08-06T17:15:00\",\"2025-08-06T17:30:00\",\"2025-08-06T17:45:00\",\"2025-08-06T18:00:00\",\"2025-08-06T18:15:00\",\"2025-08-06T18:30:00\",\"2025-08-06T18:45:00\",\"2025-08-06T19:00:00\",\"2025-08-06T19:15:00\",\"2025-08-06T19:30:00\",\"2025-08-06T19:45:00\",\"2025-08-06T20:00:00\",\"2025-08-06T20:15:00\",\"2025-08-06T20:30:00\",\"2025-08-06T20:45:00\",\"2025-08-06T21:00:00\",\"2025-08-06T21:15:00\",\"2025-08-06T21:30:00\",\"2025-08-06T21:45:00\",\"2025-08-06T22:00:00\",\"2025-08-06T22:15:00\",\"2025-08-06T22:30:00\",\"2025-08-06T22:45:00\",\"2025-08-06T23:00:00\",\"2025-08-06T23:15:00\",\"2025-08-06T23:30:00\",\"2025-08-06T23:45:00\",\"2025-08-07T01:00:00\",\"2025-08-07T01:15:00\",\"2025-08-07T01:30:00\",\"2025-08-07T01:45:00\",\"2025-08-07T02:00:00\",\"2025-08-07T02:15:00\",\"2025-08-07T02:30:00\",\"2025-08-07T02:45:00\",\"2025-08-07T03:00:00\",\"2025-08-07T03:15:00\",\"2025-08-07T03:30:00\",\"2025-08-07T03:45:00\",\"2025-08-07T04:00:00\",\"2025-08-07T04:15:00\",\"2025-08-07T04:30:00\",\"2025-08-07T04:45:00\",\"2025-08-07T05:00:00\",\"2025-08-07T05:15:00\"],\"type\":\"candlestick\"}],                        {\"template\":{\"data\":{\"histogram2dcontour\":[{\"type\":\"histogram2dcontour\",\"colorbar\":{\"outlinewidth\":0,\"ticks\":\"\"},\"colorscale\":[[0.0,\"#0d0887\"],[0.1111111111111111,\"#46039f\"],[0.2222222222222222,\"#7201a8\"],[0.3333333333333333,\"#9c179e\"],[0.4444444444444444,\"#bd3786\"],[0.5555555555555556,\"#d8576b\"],[0.6666666666666666,\"#ed7953\"],[0.7777777777777778,\"#fb9f3a\"],[0.8888888888888888,\"#fdca26\"],[1.0,\"#f0f921\"]]}],\"choropleth\":[{\"type\":\"choropleth\",\"colorbar\":{\"outlinewidth\":0,\"ticks\":\"\"}}],\"histogram2d\":[{\"type\":\"histogram2d\",\"colorbar\":{\"outlinewidth\":0,\"ticks\":\"\"},\"colorscale\":[[0.0,\"#0d0887\"],[0.1111111111111111,\"#46039f\"],[0.2222222222222222,\"#7201a8\"],[0.3333333333333333,\"#9c179e\"],[0.4444444444444444,\"#bd3786\"],[0.5555555555555556,\"#d8576b\"],[0.6666666666666666,\"#ed7953\"],[0.7777777777777778,\"#fb9f3a\"],[0.8888888888888888,\"#fdca26\"],[1.0,\"#f0f921\"]]}],\"heatmap\":[{\"type\":\"heatmap\",\"colorbar\":{\"outlinewidth\":0,\"ticks\":\"\"},\"colorscale\":[[0.0,\"#0d0887\"],[0.1111111111111111,\"#46039f\"],[0.2222222222222222,\"#7201a8\"],[0.3333333333333333,\"#9c179e\"],[0.4444444444444444,\"#bd3786\"],[0.5555555555555556,\"#d8576b\"],[0.6666666666666666,\"#ed7953\"],[0.7777777777777778,\"#fb9f3a\"],[0.8888888888888888,\"#fdca26\"],[1.0,\"#f0f921\"]]}],\"heatmapgl\":[{\"type\":\"heatmapgl\",\"colorbar\":{\"outlinewidth\":0,\"ticks\":\"\"},\"colorscale\":[[0.0,\"#0d0887\"],[0.1111111111111111,\"#46039f\"],[0.2222222222222222,\"#7201a8\"],[0.3333333333333333,\"#9c179e\"],[0.4444444444444444,\"#bd3786\"],[0.5555555555555556,\"#d8576b\"],[0.6666666666666666,\"#ed7953\"],[0.7777777777777778,\"#fb9f3a\"],[0.8888888888888888,\"#fdca26\"],[1.0,\"#f0f921\"]]}],\"contourcarpet\":[{\"type\":\"contourcarpet\",\"colorbar\":{\"outlinewidth\":0,\"ticks\":\"\"}}],\"contour\":[{\"type\":\"contour\",\"colorbar\":{\"outlinewidth\":0,\"ticks\":\"\"},\"colorscale\":[[0.0,\"#0d0887\"],[0.1111111111111111,\"#46039f\"],[0.2222222222222222,\"#7201a8\"],[0.3333333333333333,\"#9c179e\"],[0.4444444444444444,\"#bd3786\"],[0.5555555555555556,\"#d8576b\"],[0.6666666666666666,\"#ed7953\"],[0.7777777777777778,\"#fb9f3a\"],[0.8888888888888888,\"#fdca26\"],[1.0,\"#f0f921\"]]}],\"surface\":[{\"type\":\"surface\",\"colorbar\":{\"outlinewidth\":0,\"ticks\":\"\"},\"colorscale\":[[0.0,\"#0d0887\"],[0.1111111111111111,\"#46039f\"],[0.2222222222222222,\"#7201a8\"],[0.3333333333333333,\"#9c179e\"],[0.4444444444444444,\"#bd3786\"],[0.5555555555555556,\"#d8576b\"],[0.6666666666666666,\"#ed7953\"],[0.7777777777777778,\"#fb9f3a\"],[0.8888888888888888,\"#fdca26\"],[1.0,\"#f0f921\"]]}],\"mesh3d\":[{\"type\":\"mesh3d\",\"colorbar\":{\"outlinewidth\":0,\"ticks\":\"\"}}],\"scatter\":[{\"fillpattern\":{\"fillmode\":\"overlay\",\"size\":10,\"solidity\":0.2},\"type\":\"scatter\"}],\"parcoords\":[{\"type\":\"parcoords\",\"line\":{\"colorbar\":{\"outlinewidth\":0,\"ticks\":\"\"}}}],\"scatterpolargl\":[{\"type\":\"scatterpolargl\",\"marker\":{\"colorbar\":{\"outlinewidth\":0,\"ticks\":\"\"}}}],\"bar\":[{\"error_x\":{\"color\":\"#2a3f5f\"},\"error_y\":{\"color\":\"#2a3f5f\"},\"marker\":{\"line\":{\"color\":\"#E5ECF6\",\"width\":0.5},\"pattern\":{\"fillmode\":\"overlay\",\"size\":10,\"solidity\":0.2}},\"type\":\"bar\"}],\"scattergeo\":[{\"type\":\"scattergeo\",\"marker\":{\"colorbar\":{\"outlinewidth\":0,\"ticks\":\"\"}}}],\"scatterpolar\":[{\"type\":\"scatterpolar\",\"marker\":{\"colorbar\":{\"outlinewidth\":0,\"ticks\":\"\"}}}],\"histogram\":[{\"marker\":{\"pattern\":{\"fillmode\":\"overlay\",\"size\":10,\"solidity\":0.2}},\"type\":\"histogram\"}],\"scattergl\":[{\"type\":\"scattergl\",\"marker\":{\"colorbar\":{\"outlinewidth\":0,\"ticks\":\"\"}}}],\"scatter3d\":[{\"type\":\"scatter3d\",\"line\":{\"colorbar\":{\"outlinewidth\":0,\"ticks\":\"\"}},\"marker\":{\"colorbar\":{\"outlinewidth\":0,\"ticks\":\"\"}}}],\"scattermapbox\":[{\"type\":\"scattermapbox\",\"marker\":{\"colorbar\":{\"outlinewidth\":0,\"ticks\":\"\"}}}],\"scatterternary\":[{\"type\":\"scatterternary\",\"marker\":{\"colorbar\":{\"outlinewidth\":0,\"ticks\":\"\"}}}],\"scattercarpet\":[{\"type\":\"scattercarpet\",\"marker\":{\"colorbar\":{\"outlinewidth\":0,\"ticks\":\"\"}}}],\"carpet\":[{\"aaxis\":{\"endlinecolor\":\"#2a3f5f\",\"gridcolor\":\"white\",\"linecolor\":\"white\",\"minorgridcolor\":\"white\",\"startlinecolor\":\"#2a3f5f\"},\"baxis\":{\"endlinecolor\":\"#2a3f5f\",\"gridcolor\":\"white\",\"linecolor\":\"white\",\"minorgridcolor\":\"white\",\"startlinecolor\":\"#2a3f5f\"},\"type\":\"carpet\"}],\"table\":[{\"cells\":{\"fill\":{\"color\":\"#EBF0F8\"},\"line\":{\"color\":\"white\"}},\"header\":{\"fill\":{\"color\":\"#C8D4E3\"},\"line\":{\"color\":\"white\"}},\"type\":\"table\"}],\"barpolar\":[{\"marker\":{\"line\":{\"color\":\"#E5ECF6\",\"width\":0.5},\"pattern\":{\"fillmode\":\"overlay\",\"size\":10,\"solidity\":0.2}},\"type\":\"barpolar\"}],\"pie\":[{\"automargin\":true,\"type\":\"pie\"}]},\"layout\":{\"autotypenumbers\":\"strict\",\"colorway\":[\"#636efa\",\"#EF553B\",\"#00cc96\",\"#ab63fa\",\"#FFA15A\",\"#19d3f3\",\"#FF6692\",\"#B6E880\",\"#FF97FF\",\"#FECB52\"],\"font\":{\"color\":\"#2a3f5f\"},\"hovermode\":\"closest\",\"hoverlabel\":{\"align\":\"left\"},\"paper_bgcolor\":\"white\",\"plot_bgcolor\":\"#E5ECF6\",\"polar\":{\"bgcolor\":\"#E5ECF6\",\"angularaxis\":{\"gridcolor\":\"white\",\"linecolor\":\"white\",\"ticks\":\"\"},\"radialaxis\":{\"gridcolor\":\"white\",\"linecolor\":\"white\",\"ticks\":\"\"}},\"ternary\":{\"bgcolor\":\"#E5ECF6\",\"aaxis\":{\"gridcolor\":\"white\",\"linecolor\":\"white\",\"ticks\":\"\"},\"baxis\":{\"gridcolor\":\"white\",\"linecolor\":\"white\",\"ticks\":\"\"},\"caxis\":{\"gridcolor\":\"white\",\"linecolor\":\"white\",\"ticks\":\"\"}},\"coloraxis\":{\"colorbar\":{\"outlinewidth\":0,\"ticks\":\"\"}},\"colorscale\":{\"sequential\":[[0.0,\"#0d0887\"],[0.1111111111111111,\"#46039f\"],[0.2222222222222222,\"#7201a8\"],[0.3333333333333333,\"#9c179e\"],[0.4444444444444444,\"#bd3786\"],[0.5555555555555556,\"#d8576b\"],[0.6666666666666666,\"#ed7953\"],[0.7777777777777778,\"#fb9f3a\"],[0.8888888888888888,\"#fdca26\"],[1.0,\"#f0f921\"]],\"sequentialminus\":[[0.0,\"#0d0887\"],[0.1111111111111111,\"#46039f\"],[0.2222222222222222,\"#7201a8\"],[0.3333333333333333,\"#9c179e\"],[0.4444444444444444,\"#bd3786\"],[0.5555555555555556,\"#d8576b\"],[0.6666666666666666,\"#ed7953\"],[0.7777777777777778,\"#fb9f3a\"],[0.8888888888888888,\"#fdca26\"],[1.0,\"#f0f921\"]],\"diverging\":[[0,\"#8e0152\"],[0.1,\"#c51b7d\"],[0.2,\"#de77ae\"],[0.3,\"#f1b6da\"],[0.4,\"#fde0ef\"],[0.5,\"#f7f7f7\"],[0.6,\"#e6f5d0\"],[0.7,\"#b8e186\"],[0.8,\"#7fbc41\"],[0.9,\"#4d9221\"],[1,\"#276419\"]]},\"xaxis\":{\"gridcolor\":\"white\",\"linecolor\":\"white\",\"ticks\":\"\",\"title\":{\"standoff\":15},\"zerolinecolor\":\"white\",\"automargin\":true,\"zerolinewidth\":2},\"yaxis\":{\"gridcolor\":\"white\",\"linecolor\":\"white\",\"ticks\":\"\",\"title\":{\"standoff\":15},\"zerolinecolor\":\"white\",\"automargin\":true,\"zerolinewidth\":2},\"scene\":{\"xaxis\":{\"backgroundcolor\":\"#E5ECF6\",\"gridcolor\":\"white\",\"linecolor\":\"white\",\"showbackground\":true,\"ticks\":\"\",\"zerolinecolor\":\"white\",\"gridwidth\":2},\"yaxis\":{\"backgroundcolor\":\"#E5ECF6\",\"gridcolor\":\"white\",\"linecolor\":\"white\",\"showbackground\":true,\"ticks\":\"\",\"zerolinecolor\":\"white\",\"gridwidth\":2},\"zaxis\":{\"backgroundcolor\":\"#E5ECF6\",\"gridcolor\":\"white\",\"linecolor\":\"white\",\"showbackground\":true,\"ticks\":\"\",\"zerolinecolor\":\"white\",\"gridwidth\":2}},\"shapedefaults\":{\"line\":{\"color\":\"#2a3f5f\"}},\"annotationdefaults\":{\"arrowcolor\":\"#2a3f5f\",\"arrowhead\":0,\"arrowwidth\":1},\"geo\":{\"bgcolor\":\"white\",\"landcolor\":\"#E5ECF6\",\"subunitcolor\":\"white\",\"showland\":true,\"showlakes\":true,\"lakecolor\":\"white\"},\"title\":{\"x\":0.05},\"mapbox\":{\"style\":\"light\"}}},\"xaxis\":{\"rangeslider\":{\"visible\":false},\"title\":{\"text\":\"Time\"}},\"title\":{\"text\":\"US30 - 15M Candlestick Chart on 2025-08-06\"},\"yaxis\":{\"title\":{\"text\":\"Price\"}}},                        {\"responsive\": true}                    ).then(function(){\n",
       "                            \n",
       "var gd = document.getElementById('9b72d39d-8044-4f10-89f0-87203e35bcb9');\n",
       "var x = new MutationObserver(function (mutations, observer) {{\n",
       "        var display = window.getComputedStyle(gd).display;\n",
       "        if (!display || display === 'none') {{\n",
       "            console.log([gd, 'removed!']);\n",
       "            Plotly.purge(gd);\n",
       "            observer.disconnect();\n",
       "        }}\n",
       "}});\n",
       "\n",
       "// Listen for the removal of the full notebook cells\n",
       "var notebookContainer = gd.closest('#notebook-container');\n",
       "if (notebookContainer) {{\n",
       "    x.observe(notebookContainer, {childList: true});\n",
       "}}\n",
       "\n",
       "// Listen for the clearing of the current output cell\n",
       "var outputEl = gd.closest('.output');\n",
       "if (outputEl) {{\n",
       "    x.observe(outputEl, {childList: true});\n",
       "}}\n",
       "\n",
       "                        })                };                });            </script>        </div>"
      ]
     },
     "metadata": {},
     "output_type": "display_data"
    }
   ],
   "source": [
    "import plotly.graph_objects as go\n",
    "\n",
    "if df.empty:\n",
    "    print(\"No data found for the selected day.\")\n",
    "else:\n",
    "    fig = go.Figure(data=[\n",
    "        go.Candlestick(\n",
    "            x=df.index,\n",
    "            open=df['open'],\n",
    "            high=df['high'],\n",
    "            low=df['low'],\n",
    "            close=df['close']\n",
    "        )\n",
    "    ])\n",
    "\n",
    "    fig.update_layout(\n",
    "        title=f\"{symbol} - 15M Candlestick Chart on {date_str}\",\n",
    "        xaxis_title=\"Time\",\n",
    "        yaxis_title=\"Price\",\n",
    "        xaxis_rangeslider_visible=False\n",
    "    )\n",
    "\n",
    "    fig.show()\n"
   ]
  },
  {
   "cell_type": "code",
   "execution_count": null,
   "id": "8d218e62-262b-4470-8f32-33563be0574c",
   "metadata": {},
   "outputs": [],
   "source": []
  }
 ],
 "metadata": {
  "kernelspec": {
   "display_name": "Python 3 (ipykernel)",
   "language": "python",
   "name": "python3"
  },
  "language_info": {
   "codemirror_mode": {
    "name": "ipython",
    "version": 3
   },
   "file_extension": ".py",
   "mimetype": "text/x-python",
   "name": "python",
   "nbconvert_exporter": "python",
   "pygments_lexer": "ipython3",
   "version": "3.12.7"
  }
 },
 "nbformat": 4,
 "nbformat_minor": 5
}
